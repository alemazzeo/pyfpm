{
 "cells": [
  {
   "cell_type": "code",
   "execution_count": 1,
   "metadata": {
    "collapsed": false
   },
   "outputs": [
    {
     "name": "stdout",
     "output_type": "stream",
     "text": [
      "('/home/lec/pyfpm', '/home/lec/pyfpm/etc/config.yaml')\n"
     ]
    }
   ],
   "source": [
    "%load_ext autoreload\n",
    "from numpy.fft import fft2, ifft2, fftshift\n",
    "import matplotlib\n",
    "matplotlib.use('Qt4Agg')\n",
    "matplotlib.interactive(True)\n",
    "# %matplotlib inline\n",
    "import mayavi.mlab as mlab\n",
    "import matplotlib.pyplot as plt\n",
    "# import matplotlib.cm as cm\n",
    "import numpy as np\n",
    "from scipy import signal\n",
    "\n",
    "import pyfpm.fpmmath as fpm\n",
    "import pyfpm.data as dt\n",
    "import pyfpm.local as local\n"
   ]
  },
  {
   "cell_type": "code",
   "execution_count": 3,
   "metadata": {
    "collapsed": false
   },
   "outputs": [
    {
     "name": "stderr",
     "output_type": "stream",
     "text": [
      "/usr/local/lib/python2.7/dist-packages/mayavi/tools/camera.py:288: FutureWarning: elementwise comparison failed; returning scalar instead, but in the future will perform elementwise comparison\n",
      "  if focalpoint is not None and not focalpoint == 'auto':\n"
     ]
    }
   ],
   "source": [
    "import pyfpm.coordtrans as ct\n",
    "\n",
    "def set_setup(cfg):\n",
    "    \"\"\" Sets up the scene.\n",
    "    \"\"\"\n",
    "    tan_theta = 0.1/(np.sqrt(1-0.1**2)) # sin/cos\n",
    "    na_radius = tan_theta*cfg.sample_height\n",
    "    x0, y0 ,z0 = [0, 0, 0]\n",
    "    xs, ys, zs = [0, 0, -cfg.sample_height]\n",
    "    mlab.figure(size=(600,600), bgcolor=(1, 1, 1))\n",
    "\n",
    "    mlab.points3d(x0, y0, z0, 1, colormap=\"hot\", mode='2dsquare', scale_factor=40, vmin=1, vmax=3)\n",
    "    mlab.points3d(x0, y0, z0, 1, colormap=\"hot\", mode='axes', scale_factor=15, vmin=1, vmax=3)\n",
    "    mlab.points3d(xs, ys, zs, 2.1, colormap=\"hot\", mode='axes', scale_factor=8, vmin=1, vmax=3)\n",
    "    # Na circle projected in source plane\n",
    "    t = np.linspace(0, 2*np.pi, 100)\n",
    "    mlab.plot3d(na_radius*np.sin(t), na_radius*np.cos(t), -cfg.sample_height*np.ones_like(t), tube_radius=1)\n",
    "    camview = mlab.view()\n",
    "    fig = mlab.gcf()\n",
    "    return fig, camview\n",
    "\n",
    "def plot_source(position, direction, camview, color='None', fig='None'):\n",
    "    x, y ,z = position\n",
    "    u, v, w = direction\n",
    "    value = 1.2\n",
    "    mlab.points3d(x, y, -z, value, color=color, mode='sphere', scale_factor=2, vmin = 2, vmax = 3, figure=fig)\n",
    "    mlab.quiver3d(x, y, -z, u, v , w, line_width=2.2, color=(.1, .1, 1), scale_factor=5, figure=fig)\n",
    "    mlab.view(*camview)\n",
    "    return\n",
    "\n",
    "def plot_sample_plane(position, direction):\n",
    "    xspot, yspot, zspot = ct.calculate_spot_center(position, direction)\n",
    "    mlab.points3d(xspot, yspot, zspot, 2, color=color, mode='2dcircle', scale_factor=.5, vmin=0, vmax=1, figure=fig)\n",
    "    spot_image = ct.spot_image(position, direction)\n",
    "#     mlab.imshow(spot_image, extent=[-20, 20, -20, 20, 0, 0], figure=fig)\n",
    "    return\n",
    "\n",
    "# Simulation parameters\n",
    "cfg = dt.load_config()\n",
    "simclient = local.SimClient(cfg=cfg)\n",
    "fig, camview = set_setup(cfg)\n",
    "iterator = fpm.set_iterator(cfg)\n",
    "light_dir = [0, 0, 1]\n",
    "source_center = [0, 0]\n",
    "source_tilt = [0, 0]\n",
    "platform_tilt = [0, 10]\n",
    "for index, theta, phi, acqpars in iterator:\n",
    "    plat_coordinates = ct.input_angles_to_platform(theta, phi, cfg.sample_height)\n",
    "    position, direction = ct.platform_to_cartesian(plat_coordinates, light_dir, \n",
    "                          source_center, source_tilt, platform_tilt, cfg.sample_height)\n",
    "    color = (1.*phi/cfg.phi[1], 1-1.*phi/cfg.phi[1], .1)\n",
    "    direction = ct.light_dir_from_angles(theta, phi, source_tilt)\n",
    "    plot_source(position, direction, camview, color, fig)\n",
    "    plot_sample_plane(position, direction)\n",
    "    \n",
    "# arr = mlab.screenshot()\n",
    "# mlab.close()\n",
    "# fig, ax = plt.subplots(1,1, figsize=[10, 10])\n",
    "# ax.imshow(arr)\n",
    "# ax.axis('off')\n",
    "# plt.show()"
   ]
  },
  {
   "cell_type": "code",
   "execution_count": null,
   "metadata": {
    "collapsed": true
   },
   "outputs": [],
   "source": []
  }
 ],
 "metadata": {
  "kernelspec": {
   "display_name": "Python 2",
   "language": "python",
   "name": "python2"
  },
  "language_info": {
   "codemirror_mode": {
    "name": "ipython",
    "version": 2
   },
   "file_extension": ".py",
   "mimetype": "text/x-python",
   "name": "python",
   "nbconvert_exporter": "python",
   "pygments_lexer": "ipython2",
   "version": "2.7.6"
  }
 },
 "nbformat": 4,
 "nbformat_minor": 0
}
