{
 "cells": [
  {
   "cell_type": "code",
   "execution_count": 2,
   "metadata": {
    "collapsed": false
   },
   "outputs": [
    {
     "name": "stdout",
     "output_type": "stream",
     "text": [
      "The autoreload extension is already loaded. To reload it, use:\n",
      "  %reload_ext autoreload\n"
     ]
    },
    {
     "data": {
      "text/plain": [
       "<mayavi.modules.glyph.Glyph at 0x7facd0ef1d70>"
      ]
     },
     "execution_count": 2,
     "metadata": {},
     "output_type": "execute_result"
    }
   ],
   "source": [
    "%load_ext autoreload\n",
    "from numpy.fft import fft2, ifft2, fftshift\n",
    "import matplotlib\n",
    "matplotlib.use('Qt4Agg')\n",
    "matplotlib.interactive(True)\n",
    "# %matplotlib inline\n",
    "import mayavi.mlab as mlab\n",
    "import matplotlib.pyplot as plt\n",
    "# import matplotlib.cm as cm\n",
    "import numpy as np\n",
    "from scipy import signal\n",
    "\n",
    "def test_points3d():\n",
    "    t = np.linspace(0, 4 * np.pi, 20)\n",
    "    cos = np.cos\n",
    "    sin = np.sin\n",
    "\n",
    "    x = sin(2 * t)\n",
    "    y = cos(t)\n",
    "    z = cos(2 * t)\n",
    "    s = 2 + sin(t)\n",
    "\n",
    "    return mlab.points3d(x, y, z, s, colormap=\"copper\", scale_factor=.25)\n",
    "\n",
    "test_points3d()"
   ]
  },
  {
   "cell_type": "code",
   "execution_count": null,
   "metadata": {
    "collapsed": true
   },
   "outputs": [],
   "source": []
  }
 ],
 "metadata": {
  "kernelspec": {
   "display_name": "Python 2",
   "language": "python",
   "name": "python2"
  },
  "language_info": {
   "codemirror_mode": {
    "name": "ipython",
    "version": 2
   },
   "file_extension": ".py",
   "mimetype": "text/x-python",
   "name": "python",
   "nbconvert_exporter": "python",
   "pygments_lexer": "ipython2",
   "version": "2.7.6"
  }
 },
 "nbformat": 4,
 "nbformat_minor": 0
}
