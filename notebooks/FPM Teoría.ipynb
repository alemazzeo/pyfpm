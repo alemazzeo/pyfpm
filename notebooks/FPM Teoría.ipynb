{
 "cells": [
  {
   "cell_type": "code",
   "execution_count": null,
   "metadata": {
    "collapsed": false
   },
   "outputs": [],
   "source": [
    "%matplotlib inline\n",
    "%reload_ext autoreload \n",
    "import sys\n",
    "sys.path.append('/home/lec/pyfpm')\n",
    "import matplotlib.pyplot as plt\n",
    "from IPython.display import SVG, display\n",
    "import numpy as np\n",
    "\n",
    "import pyfpm.fpmmath as fpm"
   ]
  },
  {
   "cell_type": "markdown",
   "metadata": {},
   "source": [
    "## CTF de un sistema de iluminación coherente"
   ]
  },
  {
   "cell_type": "markdown",
   "metadata": {},
   "source": [
    "La resolución de un sistema óptico está dada por numérica y la longitud de onde de la iluminación. Suponiendo que la apertura de salida del sistema es circular y el sistema no tiene aberraciones, la imagen de un punto en el plano imagen estará dado por los discos de Airy.\n",
    "\n",
    "\n",
    "En lo que sigue, supongo una imagen adquirida con una iluminación de 500 nm y con una apertura numérica de 0.1 y magnificación X1. El tamaño de pixel del sensor (PS) es 0.5 um.\n"
   ]
  },
  {
   "cell_type": "code",
   "execution_count": null,
   "metadata": {
    "collapsed": false
   },
   "outputs": [],
   "source": [
    "display(SVG('lens_system.svg'))"
   ]
  },
  {
   "cell_type": "markdown",
   "metadata": {},
   "source": [
    "En el plano transformado, la frecuencia espacial máxima esta relacionada con la resolución por difracción y por el criterio de Rayleigh es $k_{max}=\\frac{2\\pi}{0.61\\lambda}$. De modo que la frecuencia de corte del sistema óptico ideal es $\\frac{2\\pi}{0.61\\lambda}=0.61*k_0$.\n",
    "\n",
    "NOTA: el primer cero en la función de Airy se encuentra en $x*k_0*NA=1.22\\pi$, con lo cual en una pantalla el primer cero estará en $x=0.61*\\frac{\\lambda}{NA}$.\n"
   ]
  },
  {
   "cell_type": "code",
   "execution_count": null,
   "metadata": {
    "collapsed": true
   },
   "outputs": [],
   "source": [
    "wavelength = 450E-9\n",
    "k0 = 2*np.pi/wavelength\n",
    "NA = 0.12\n",
    "cutoff_frequency = k0*NA"
   ]
  },
  {
   "cell_type": "markdown",
   "metadata": {},
   "source": [
    "Para hacer cálculos en el dominio muestreado, hay que tener en cuenta justamente la discretización del sensor. Los dos parámetros que lo definen (al menos en una primera aproximación) son el tamaño del pixel (ps) y sus dimensiones (numero de pixeles en x y en y, cantidad que en éste párrafo llamaremos np). Para simplificar algunas cosas se puede trabajar con coordenadas en el plano objeto (es decir, considerando la magnificacón del sistema), de esta manera es $ps = \\frac{tam_pixel}{M}$. De acuerdo a la teoría del muestreo, la frecuencia máxima corresponderá a $fs=\\frac{1}{ps}$, siendo $\\delta f = \\frac{\\fs}{np}$\n",
    "La frecuencia de muestreo más alta es $\\frac{2\\pi}{pixel}$, con pasos dados por $\\frac{2\\pi}{NPX*PS}$ (siendo NPX la cantidad de pixeles en una dada dimensión, para ambos casos es totalemente análogo, debiendose tomar la precaución de usar el PS adecuado si los pixeles no son cuadrados). El radio de la pupila en estas coordenadas vendrá dado por $\\frac{NA}{\\lambda}$"
   ]
  },
  {
   "cell_type": "code",
   "execution_count": null,
   "metadata": {
    "collapsed": false
   },
   "outputs": [],
   "source": [
    "# Maximum sampling frequency calculation\n",
    "magnification = 8\n",
    "pixel_size = 5.670E-6/magnification\n",
    "NPX, NPY = [400, 400]\n",
    "pupil_radius = NA/wavelength\n",
    "fs = 1/pixel_size\n",
    "df = fs/NPX\n",
    "pupil_radius_pixels = pupil_radius/df\n",
    "fx = np.arange(-fs / 2, fs / 2, step = df)*1E-6 # Spatial frequency, inverse microns\n",
    "pupil = fpm.generate_pupil(theta=0, phi=0, power=0, image_size=[NPY, NPX],\n",
    "                       wavelength=wavelength, pixel_size=pixel_size, na=NA)\n",
    "# Show the pupil\n",
    "ax = plt.imshow(np.abs(pupil), extent = [fx[0], fx[-1], fx[0], fx[-1]])\n",
    "plt.grid(False)\n",
    "cb = plt.colorbar(ax)\n",
    "cb.set_label('$P \\, ( f_x, f_y ) $')\n",
    "plt.xlabel('$f_x$, $\\mu m^{-1}$')\n",
    "plt.ylabel('$f_y$, $\\mu m^{-1}$')\n",
    "plt.show()\n"
   ]
  },
  {
   "cell_type": "markdown",
   "metadata": {},
   "source": [
    "La pupila tiene el efecto pasabajos sobre la imagen. En el siguiente ejemplo se trabaja en coordenadas dadas por el número de onda donde se ilustra dicho efecto."
   ]
  },
  {
   "cell_type": "code",
   "execution_count": null,
   "metadata": {
    "collapsed": false
   },
   "outputs": [],
   "source": [
    "from scipy import fftpack, ndimage\n",
    "## El objeto muestreado\n",
    "objectIntensity = ndimage.imread('cameraman.tif', flatten=True)     # flatten=True gives a greyscale image\n",
    "objectAmplitude = np.sqrt(objectIntensity)\n",
    "objectAmplitudeFT = fftpack.fftshift(fftpack.fft2(objectAmplitude))\n",
    "m, n = np.shape(objectAmplitude)\n",
    "kx = np.linspace(-np.pi/pixel_size, np.pi/pixel_size,n)\n",
    "ky = np.linspace(-np.pi/pixel_size, np.pi/pixel_size, m)\n",
    "kxm, kym = np.meshgrid(kx, ky, sparse = True)\n",
    "CTF = (kxm**2+kym**2<cutoff_frequency**2).astype(int)\n",
    "outputFT = CTF*objectAmplitudeFT\n",
    "outputAmplitude = fftpack.ifft2(fftpack.ifftshift(outputFT))\n",
    "outputIntensity = np.abs(outputAmplitude**2)\n",
    "# plt.imshow(np.log(np.abs(outputFT)), cmap='gray')\n",
    "fig, ax = plt.subplots(nrows = 1, ncols = 3, figsize=(15,15))\n",
    "ax[0].imshow(outputIntensity, cmap='gray')\n",
    "ax[1].imshow(objectIntensity, cmap='gray')\n",
    "ax[2].imshow(CTF, cmap='gray')\n",
    "plt.show()"
   ]
  },
  {
   "cell_type": "markdown",
   "metadata": {},
   "source": [
    "## Onda plana incidente con ángulo variable\n",
    "\n",
    "Al incidir una onda plana $Ae^{i\\phi(kx,ky)}$ sobre una muestra situeda en el foco de una lente (como en la figura de arriba), en el plano focal trasero de la misma de obtiene un campo con una distribución que puede aproximarse como la transformada de fourier de la onda incidente por una función $t(x,y)$ que modela la transmisión de la muestra. "
   ]
  },
  {
   "cell_type": "markdown",
   "metadata": {},
   "source": [
    "Ahora bien, en una imagen con un tamaño de pixel dado, la máxima resolución asequible viene dada por $\\frac{FS}{2}=\\frac{1}{2\\Delta x}$, que a si vez corresponde a una cantidad apertura numerica $\\frac{1}{2\\Delta x r_{pup}}$ veces mayor que la que el sistema físico posee.\n",
    "Por ejemplo, tomando los valores ya calculados arriba, se tiene que la apertura numérica sintética máxima (correspondiente a una pupila que abarque totalmente el sensor) tendria que ser"
   ]
  },
  {
   "cell_type": "code",
   "execution_count": null,
   "metadata": {
    "collapsed": false
   },
   "outputs": [],
   "source": [
    "NA_max = NA*1/(2*pixel_size*pupil_radius)\n",
    "angle_max = np.arcsin(NA_max)*180/np.pi\n",
    "print('Maxima NA sintetica:\\t%.2f' % (NA_max))\n",
    "print('Maximo angulo zenital correspondiente:\\t%.2fº' % (angle_max))"
   ]
  },
  {
   "cell_type": "markdown",
   "metadata": {},
   "source": [
    "Esto no quiere decir que no se puedan conseguir aperturas sintéticas mayores con la técnica; no es un límite físico insuperable y veremos más adelante como superarlo. El sistema de iluminación se define en el sistema de coordenadas mostrado en la figura. La correcta definición de los ángulos y proyecciones es importante dado que son las que se usarán para generar los corrimientos en la pupila que luego definirán la apertura sintética del sistema."
   ]
  },
  {
   "cell_type": "code",
   "execution_count": null,
   "metadata": {
    "collapsed": false
   },
   "outputs": [],
   "source": [
    "display(SVG('angle_definition.svg'))"
   ]
  },
  {
   "cell_type": "markdown",
   "metadata": {},
   "source": [
    "La onda plana incidente puede reescribirse en función de estos ángulos como \n",
    "\n",
    "\\begin{equation}\n",
    "Ae^{\\frac{2\\pi}{\\lambda} \\left(\\sin\\varphi\\cos\\theta,\\,\\sin\\varphi\\sin\\theta \\right)}.\n",
    "\\end{equation}\n",
    "\n",
    "Ahora bien, trabajando en frecuencias espaciales hemos visto que el valor máximo muestreable por el sensor está en $\\frac{FS}{2}=\\frac{1}{2\\Delta x}$, lo cual quiere decir que no tiene sentido, para un dado tamaño de pixel, mover a la pupila más allá de $\\frac{FS}{2}-r_{pup}=\\frac{1}{2\\Delta x}-\\frac{NA}{\\lambda}$\n",
    "\n",
    "En valores muestrales, esto es\n",
    "\n",
    "\\begin{equation}\n",
    "\\frac{N_{PX}}{2}-\\frac{NA \\Delta x N_{PX}}{\\lambda}\n",
    "\\end{equation}\n",
    "\n",
    "Usando estas consideraciones se pueden obtener algunas útiles conclusiones:\n",
    "\n",
    "1) Dado que el módulo de la proyección de f ($f=\\frac{k}{2\\pi}$) en el plano de fourier viene dado por $\\frac{\\sin\\varphi}{\\lambda}$ y la máxima frecuencia muestral es $\\frac{1}{2 \\Delta x}$. Considerando una pupila pequeña (cuasi puntual) el valor más extremo que puede tomar $\\phi$ en esta configuración es $\\sin^{-1}\\frac{\\lambda}{2 \\Delta x}$. De acá puede verse que muestrear a más de $\\frac{\\Delta x}{2}$ no tiene sentido físico (equivale a decir que el límite en la mejora de la resolución viene dado por el límite de difracción).\n",
    "\n",
    "2) Dado un determinado sensor, el valor extremo de muestreo coincide la proyección de este $\\varphi_{max}$\n",
    "\n",
    "3) Teniendo en cuenta ahora en ancho de la pupila, no tiene sentido correr su centro a una posición más lejana que aquella en la que su borde toca el extremo más lejano del sensor, con lo cual $\\varphi_{max}$ es más pequeño que lo mencionado en el punto anterior. De hecho, vale \n",
    "\\begin{equation}\n",
    "\\varphi_{max}=\\sin^{-1}\\left( \\frac{\\lambda}{2 \\Delta x}- NA \\right)\n",
    "\\end{equation}\n",
    "\n",
    "4) De manera que las coordenadas del centro de la pupila vendran dadas por\n",
    "\n",
    "\\begin{equation}\n",
    "(x_c, y_x) + \\frac{1}{\\lambda} \\left(\\sin\\varphi\\cos\\theta,\\,\\sin\\varphi\\sin\\theta \\right) \\Delta x N_{PX}\n",
    "\\end{equation}\n",
    "\n"
   ]
  },
  {
   "cell_type": "code",
   "execution_count": null,
   "metadata": {
    "collapsed": false
   },
   "outputs": [],
   "source": [
    "phi_max = np.arcsin(wavelength/(2*pixel_size)-NA)\n",
    "phi_max = np.degrees(phi_max)\n",
    "print('Maximo angulo zenital correspondiente:\\t%.2fº' % phi_max)\n",
    "phi = phi_max\n",
    "theta = 0\n",
    "pupil = fpm.generate_pupil(theta=0, phi=phi, power=0, image_size=[NPY, NPX],\n",
    "                       wavelength=wavelength, pixel_size=pixel_size, na=NA)\n",
    "# Show the pupil\n",
    "ax = plt.imshow(np.abs(pupil), extent = [fx[0], fx[-1], fx[0], fx[-1]])\n",
    "plt.grid(False)\n",
    "cb = plt.colorbar(ax)\n",
    "cb.set_label('$P \\, ( f_x, f_y ) $')\n",
    "plt.xlabel('$f_x$, $\\mu m^{-1}$')\n",
    "plt.ylabel('$f_y$, $\\mu m^{-1}$')\n",
    "plt.show()\n"
   ]
  },
  {
   "cell_type": "markdown",
   "metadata": {},
   "source": [
    "## El phi máximo no es tan máximo\n",
    "\n",
    "Arriba hemos calculado el phi máximo para una dada configuración, pero en esta aplicación este límite puede quebrarse dado que independientemente de todas las características del sensor y la iluminación siempre puede tomarse una foto de el objeto bajo un angulo zenital mayor y ésta contendrá información de alta frecuencia de obeto sensado a pesar de que por los medios usuales ésta no pueda medirse. Dado que la frecuencia máxima de muestreo está relacionada con el tamaño del píxel, esta información fuera del dominio de muestreo puede considerarse como una relación proporcional (y \"virtual\") del tamaño del pixel.\n",
    "\n",
    "Por un lado está la información del objeto \"por fuera\" de la apertura numérica del sistema óptico sobre la que hemos tratado hasta recién. Por otro está la información que supera la máxima frecuencia espacial admisible por el sensor. \n",
    "\n",
    "Si simplemente cambio el tamaño de pixel, el efecto neto es que la pupila se achica sobre el mismo área. Para que la pupila conserve su tamaño (y por lo tanto el objeto filtrado posea la misma información espectral que el original), también hay que cambiar proporcionalmente la cantidad de los pixels (es decir, el tamaño total del sensor debe permanecer invariante). Un ejemplo de esto se muestra en la siguiente simulación de muestreo.\n"
   ]
  },
  {
   "cell_type": "code",
   "execution_count": null,
   "metadata": {
    "collapsed": false
   },
   "outputs": [],
   "source": [
    "from scipy import fftpack, ndimage\n",
    "## El objeto muestreado\n",
    "pixel_size_scale = 5E-8\n",
    "f0 = 1/wavelength\n",
    "objectIntensity = ndimage.imread('Image_4a_mag.png', flatten=True)     # flatten=True gives a greyscale image\n",
    "def sample(objectIntensity, pixel_size, k0, resize_factor):\n",
    "    pixel_size = pixel_size/resize_factor\n",
    "    objectIntensity = ndimage.zoom(objectIntensity, resize_factor, order=0)\n",
    "    objectAmplitude = np.sqrt(objectIntensity)\n",
    "    objectAmplitudeFT = fftpack.fftshift(fftpack.fft2(objectAmplitude))\n",
    "    m, n = np.shape(objectAmplitude)\n",
    "    fx = np.linspace(-1/(pixel_size*2), 1/(pixel_size*2),n)\n",
    "    fy = np.linspace(-1/(pixel_size*2), 1/(pixel_size*2), m)\n",
    "    fxm, fym = np.meshgrid(fx, fy, sparse = True)\n",
    "    CTF = (fxm**2+fym**2<f0**2).astype(int)\n",
    "    outputFT = CTF*objectAmplitudeFT\n",
    "    outputAmplitude = fftpack.ifft2(fftpack.ifftshift(outputFT))\n",
    "    outputIntensity = np.abs(outputAmplitude**2)\n",
    "    return outputIntensity, CTF\n",
    "\n",
    "out1, pupil1 = sample(objectIntensity, pixel_size_scale, k0, .5)\n",
    "out2, pupil2 = sample(objectIntensity, pixel_size_scale, k0, 2)\n",
    "# plt.imshow(np.log(np.abs(outputFT)), cmap='gray')\n",
    "fig, ((ax1, ax2), (ax3, ax4)) = plt.subplots(nrows = 2, ncols = 2, figsize=(15,12))\n",
    "ax1.imshow(out1, cmap='gray')\n",
    "ax2.imshow(pupil1, cmap='gray')\n",
    "ax3.imshow(out2, cmap='gray')\n",
    "ax4.imshow(pupil2, cmap='gray')\n",
    "plt.show()"
   ]
  },
  {
   "cell_type": "markdown",
   "metadata": {},
   "source": [
    "En ambos casos se escaló de la misma manera el tamaño del pixel y la cantidad de pixeles en la imagen, siendo en el primer caso el factor de escala 0.5 y en el segundo de 2. Dado que el tamaño de la pupila es $\\frac{NA}{\\lambda}*\\frac{1}{NPX*PS}$ la relación entre el tamaño de la pupila y el tamaño de la imagen sigue el mismo factor de escala. Hay que recordar que la transformada de una imagen ampliada se comprime con el mismo factor de escala, por lo cual la información espectral dentro de ambas áreas es la misma pero hay más lugar para mover la pupila. \n",
    "\n",
    "De hecho, para ambos casos vale:"
   ]
  },
  {
   "cell_type": "code",
   "execution_count": null,
   "metadata": {
    "collapsed": false
   },
   "outputs": [],
   "source": [
    "phi_max1 = np.arcsin(wavelength/(2*pixel_size/0.5)-NA)\n",
    "phi_max2 = np.arcsin(wavelength/(2*pixel_size/2.)-NA)\n",
    "print(\"NPX de la imagen de arriba %i. Angulo zenital máximo: %.1fº\" % (np.shape(out1)[0], np.degrees(phi_max1) ))\n",
    "print(\"NPX de la imagen de abajo %i. Angulo zenital máximo: %.1fº\" % (np.shape(out2)[0], np.degrees(phi_max2) ))"
   ]
  },
  {
   "cell_type": "markdown",
   "metadata": {},
   "source": [
    "Se puede calcular el tamaño del pixel para un dado ángulo máximo según:\n",
    "\\begin{equation}\n",
    "PS = \\frac{\\lambda}{2 \\left( \\sin\\varphi_{max}  +NA \\right)}\n",
    "\\end{equation}"
   ]
  },
  {
   "cell_type": "code",
   "execution_count": null,
   "metadata": {
    "collapsed": false
   },
   "outputs": [],
   "source": [
    "def pixel_size_required(phi_max, wavelength, NA):\n",
    "    phi_max_rad = np.radians(phi_max)\n",
    "    return wavelength/(np.sin(phi_max_rad)+NA)/2\n",
    "NA = 0.12\n",
    "wavelength = 450E-9\n",
    "phi_max = 30\n",
    "print(\"Tamaño de pixel requerido: %.2f nm\" % (1E9*pixel_size_required(phi_max, wavelength, NA)))"
   ]
  },
  {
   "cell_type": "markdown",
   "metadata": {
    "collapsed": false
   },
   "source": [
    "## Simulación realista de una adquisición\n",
    "\n",
    "Para la simulación realista con los parámetros físicos reales del sistema hay que tener una imagen con información de fase. La información de módulo y fase de la muestra vienen dados básicamente por la absorción, la profundidad y el índice de refracción en cada punto muestreado."
   ]
  },
  {
   "cell_type": "code",
   "execution_count": null,
   "metadata": {
    "collapsed": false
   },
   "outputs": [],
   "source": [
    "image_size = [500, 500]\n",
    "nx, ny = image_size\n",
    "xc, yc = fpm.image_center(image_size)\n",
    "xsp, ysp = [xc, yc]\n",
    "rad = 70\n",
    "coords = np.array([xc, yc])\n",
    "pup_matrix = np.zeros(image_size, dtype=np.uint8)\n",
    "xx, yy = np.meshgrid(range(ny), range(nx))\n",
    "c = (xx-xsp)**2+(yy-ysp)**2\n",
    "image_gray = c\n",
    "# image_gray = [c < rad**2][0]\n",
    "fig, (ax1, ax2) = plt.subplots(nrows = 1, ncols = 2, figsize=(15, 5))\n",
    "ax1.imshow(image_gray)\n",
    "plt.plot()"
   ]
  },
  {
   "cell_type": "code",
   "execution_count": 8,
   "metadata": {
    "collapsed": false
   },
   "outputs": [
    {
     "name": "stdout",
     "output_type": "stream",
     "text": [
      "The autoreload extension is already loaded. To reload it, use:\n",
      "  %reload_ext autoreload\n",
      "[[ 0.5  0.5  0.5 ...,  0.5  0.5  0.5]\n",
      " [ 0.5  0.5  0.5 ...,  0.5  0.5  0.5]\n",
      " [ 0.5  0.5  0.5 ...,  0.5  0.5  0.5]\n",
      " ..., \n",
      " [ 0.5  0.5  0.5 ...,  0.5  0.5  0.5]\n",
      " [ 0.5  0.5  0.5 ...,  0.5  0.5  0.5]\n",
      " [ 0.5  0.5  0.5 ...,  0.5  0.5  0.5]]\n",
      "Warning: the range of your scalar values differs by more than a factor 100 than the range of the grid values and you did not specify a warp_scale. You could try warp_scale=\"auto\".\n"
     ]
    },
    {
     "data": {
      "text/plain": [
       "<mayavi.modules.surface.Surface at 0x7f9913926530>"
      ]
     },
     "execution_count": 8,
     "metadata": {},
     "output_type": "execute_result"
    }
   ],
   "source": [
    "%load_ext autoreload\n",
    "import matplotlib\n",
    "matplotlib.use('Qt4Agg')\n",
    "matplotlib.interactive(True)\n",
    "# %matplotlib inline\n",
    "import mayavi.mlab as mlab\n",
    "import matplotlib.pyplot as plt\n",
    "\n",
    "def generate_model(nx, ny):\n",
    "    \"\"\"Test surf on regularly spaced co-ordinates like MayaVi.\"\"\"\n",
    "    xx, yy = np.mgrid[-1.:1:nx*1j, -1.:1:ny*1j]\n",
    "    \n",
    "    def sample_height(xx, yy, cx, cy, rad):\n",
    "        sample_height = .1*np.exp(-(2*(xx-cx)**2 + (yy-cy)**2)/rad**2)/(rad**2)-.2\n",
    "        sample_height[sample_height < 0] = 0\n",
    "#         sample_height[sample_height > 0] += .1\n",
    "        return sample_height\n",
    "    \n",
    "    def refraction_index(xx, yy):\n",
    "        refraction_index = .5*np.ones_like((xx))\n",
    "        return refraction_index\n",
    "    \n",
    "    def absorption(xx, yy):\n",
    "        sample_absorption = 1.5*np.zeros_like((xx))\n",
    "        return sample_absorption\n",
    "    \n",
    "    sample_height = sample_height(xx, yy, 0, 0, .55)\n",
    "    sample_refind = refraction_index(xx, yy)\n",
    "    sample_abs = absorption(xx, yy)\n",
    "#     h += height(xx, yy, .1, .2, .5) \n",
    "    return xx, yy, sample_height, sample_refind, sample_abs\n",
    "\n",
    "def mayavi_plot_sample():\n",
    "    xx, yy, height, refind, absorption = generate_model(500, 500)\n",
    "    print(refind)\n",
    "    s = mlab.surf(xx, yy, height)\n",
    "    return s\n",
    "    \n",
    "mayavi_plot_sample()\n"
   ]
  },
  {
   "cell_type": "code",
   "execution_count": 23,
   "metadata": {
    "collapsed": false
   },
   "outputs": [
    {
     "data": {
      "text/plain": [
       "[(-1.0,\n",
       "  -0.77777777777777779,\n",
       "  -0.55555555555555558,\n",
       "  -0.33333333333333337,\n",
       "  -0.11111111111111116,\n",
       "  0.11111111111111116,\n",
       "  0.33333333333333326,\n",
       "  0.55555555555555536,\n",
       "  0.77777777777777768,\n",
       "  1.0),\n",
       " (-1.0,\n",
       "  -0.77777777777777779,\n",
       "  -0.55555555555555558,\n",
       "  -0.33333333333333337,\n",
       "  -0.11111111111111116,\n",
       "  0.11111111111111116,\n",
       "  0.33333333333333326,\n",
       "  0.55555555555555536,\n",
       "  0.77777777777777768,\n",
       "  1.0),\n",
       " (-1.0,\n",
       "  -0.77777777777777779,\n",
       "  -0.55555555555555558,\n",
       "  -0.33333333333333337,\n",
       "  -0.11111111111111116,\n",
       "  0.11111111111111116,\n",
       "  0.33333333333333326,\n",
       "  0.55555555555555536,\n",
       "  0.77777777777777768,\n",
       "  1.0),\n",
       " (-1.0,\n",
       "  -0.77777777777777779,\n",
       "  -0.55555555555555558,\n",
       "  -0.33333333333333337,\n",
       "  -0.11111111111111116,\n",
       "  0.11111111111111116,\n",
       "  0.33333333333333326,\n",
       "  0.55555555555555536,\n",
       "  0.77777777777777768,\n",
       "  1.0),\n",
       " (-1.0,\n",
       "  -0.77777777777777779,\n",
       "  -0.55555555555555558,\n",
       "  -0.33333333333333337,\n",
       "  -0.11111111111111116,\n",
       "  0.11111111111111116,\n",
       "  0.33333333333333326,\n",
       "  0.55555555555555536,\n",
       "  0.77777777777777768,\n",
       "  1.0),\n",
       " (-1.0,\n",
       "  -0.77777777777777779,\n",
       "  -0.55555555555555558,\n",
       "  -0.33333333333333337,\n",
       "  -0.11111111111111116,\n",
       "  0.11111111111111116,\n",
       "  0.33333333333333326,\n",
       "  0.55555555555555536,\n",
       "  0.77777777777777768,\n",
       "  1.0),\n",
       " (-1.0,\n",
       "  -0.77777777777777779,\n",
       "  -0.55555555555555558,\n",
       "  -0.33333333333333337,\n",
       "  -0.11111111111111116,\n",
       "  0.11111111111111116,\n",
       "  0.33333333333333326,\n",
       "  0.55555555555555536,\n",
       "  0.77777777777777768,\n",
       "  1.0),\n",
       " (-1.0,\n",
       "  -0.77777777777777779,\n",
       "  -0.55555555555555558,\n",
       "  -0.33333333333333337,\n",
       "  -0.11111111111111116,\n",
       "  0.11111111111111116,\n",
       "  0.33333333333333326,\n",
       "  0.55555555555555536,\n",
       "  0.77777777777777768,\n",
       "  1.0),\n",
       " (-1.0,\n",
       "  -0.77777777777777779,\n",
       "  -0.55555555555555558,\n",
       "  -0.33333333333333337,\n",
       "  -0.11111111111111116,\n",
       "  0.11111111111111116,\n",
       "  0.33333333333333326,\n",
       "  0.55555555555555536,\n",
       "  0.77777777777777768,\n",
       "  1.0),\n",
       " (-1.0,\n",
       "  -0.77777777777777779,\n",
       "  -0.55555555555555558,\n",
       "  -0.33333333333333337,\n",
       "  -0.11111111111111116,\n",
       "  0.11111111111111116,\n",
       "  0.33333333333333326,\n",
       "  0.55555555555555536,\n",
       "  0.77777777777777768,\n",
       "  1.0)]"
      ]
     },
     "execution_count": 23,
     "metadata": {},
     "output_type": "execute_result"
    }
   ],
   "source": [
    "xx, yy = np.mgrid[-1.:1:10*1j, -1.:1:10*1j]\n"
   ]
  },
  {
   "cell_type": "markdown",
   "metadata": {},
   "source": [
    "## Bibliografía\n",
    "\n",
    "http://kmdouglass.github.io/posts/simple-pupil-function-calculations.html"
   ]
  }
 ],
 "metadata": {
  "kernelspec": {
   "display_name": "Python 2",
   "language": "python",
   "name": "python2"
  },
  "language_info": {
   "codemirror_mode": {
    "name": "ipython",
    "version": 2
   },
   "file_extension": ".py",
   "mimetype": "text/x-python",
   "name": "python",
   "nbconvert_exporter": "python",
   "pygments_lexer": "ipython2",
   "version": "2.7.6"
  }
 },
 "nbformat": 4,
 "nbformat_minor": 2
}
