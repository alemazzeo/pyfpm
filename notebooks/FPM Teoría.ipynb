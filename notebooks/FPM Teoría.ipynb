{
 "cells": [
  {
   "cell_type": "code",
   "execution_count": 25,
   "metadata": {
    "collapsed": false
   },
   "outputs": [
    {
     "ename": "SyntaxError",
     "evalue": "invalid syntax (fpmmath.py, line 394)",
     "output_type": "error",
     "traceback": [
      "\u001b[1;36m  File \u001b[1;32m\"/home/lec/pyfpm/pyfpm/fpmmath.py\"\u001b[1;36m, line \u001b[1;32m394\u001b[0m\n\u001b[1;33m    lb = 1.lb_phase\u001b[0m\n\u001b[1;37m                  ^\u001b[0m\n\u001b[1;31mSyntaxError\u001b[0m\u001b[1;31m:\u001b[0m invalid syntax\n"
     ]
    }
   ],
   "source": [
    "%matplotlib inline\n",
    "%reload_ext autoreload \n",
    "import sys\n",
    "sys.path.append('/home/lec/pyfpm')\n",
    "import matplotlib.pyplot as plt\n",
    "from IPython.display import SVG, display\n",
    "import numpy as np\n",
    "\n",
    "import pyfpm.fpmmath as fpm"
   ]
  },
  {
   "cell_type": "markdown",
   "metadata": {},
   "source": [
    "## CTF de un sistema de iluminación coherente"
   ]
  },
  {
   "cell_type": "markdown",
   "metadata": {},
   "source": [
    "La resolución de un sistema óptico está dada por numérica y la longitud de onde de la iluminación. Suponiendo que la apertura de salida del sistema es circular y el sistema no tiene aberraciones, la imagen de un punto en el plano imagen estará dado por los discos de Airy.\n",
    "\n",
    "\n",
    "En lo que sigue, supongo una imagen adquirida con una iluminación de 500 nm y con una apertura numérica de 0.1 y magnificación X1. El tamaño de pixel del sensor (PS) es 0.5 um.\n"
   ]
  },
  {
   "cell_type": "code",
   "execution_count": 26,
   "metadata": {
    "collapsed": false
   },
   "outputs": [
    {
     "data": {
      "image/svg+xml": [
       "<svg height=\"173.40329mm\" id=\"svg2\" inkscape:version=\"0.91 r13725\" sodipodi:docname=\"lens_system.svg\" version=\"1.1\" viewBox=\"0 0 825.43049 614.4211\" width=\"232.95482mm\" xmlns=\"http://www.w3.org/2000/svg\" xmlns:cc=\"http://creativecommons.org/ns#\" xmlns:dc=\"http://purl.org/dc/elements/1.1/\" xmlns:inkscape=\"http://www.inkscape.org/namespaces/inkscape\" xmlns:osb=\"http://www.openswatchbook.org/uri/2009/osb\" xmlns:rdf=\"http://www.w3.org/1999/02/22-rdf-syntax-ns#\" xmlns:sodipodi=\"http://sodipodi.sourceforge.net/DTD/sodipodi-0.dtd\" xmlns:svg=\"http://www.w3.org/2000/svg\" xmlns:xlink=\"http://www.w3.org/1999/xlink\">\n",
       "  <sodipodi:namedview bordercolor=\"#666666\" borderopacity=\"1.0\" fit-margin-bottom=\"0\" fit-margin-left=\"0\" fit-margin-right=\"0\" fit-margin-top=\"0\" guidetolerance=\"10000\" id=\"base\" inkscape:current-layer=\"layer1\" inkscape:cx=\"559.30241\" inkscape:cy=\"482.15743\" inkscape:document-units=\"px\" inkscape:pageopacity=\"0.0\" inkscape:pageshadow=\"2\" inkscape:window-height=\"1056\" inkscape:window-maximized=\"1\" inkscape:window-width=\"1861\" inkscape:window-x=\"59\" inkscape:window-y=\"24\" inkscape:zoom=\"0.90777595\" objecttolerance=\"10000\" pagecolor=\"#ffffff\" showgrid=\"true\">\n",
       "    <sodipodi:guide id=\"guide4155\" orientation=\"0,744.09449\" position=\"-181.52763,-405.57874\"/>\n",
       "    <sodipodi:guide id=\"guide4157\" orientation=\"-1052.3622,0\" position=\"568.4724,344.42125\"/>\n",
       "    <sodipodi:guide id=\"guide4159\" orientation=\"0,-744.09449\" position=\"562.56689,646.78324\"/>\n",
       "    <sodipodi:guide id=\"guide4161\" orientation=\"1052.3622,0\" position=\"-181.52763,646.78324\"/>\n",
       "    <inkscape:grid id=\"grid4163\" originx=\"-181.52763\" originy=\"-405.57874\" spacingx=\"3\" spacingy=\"3.0000001\" type=\"xygrid\"/>\n",
       "  </sodipodi:namedview>\n",
       "  <defs id=\"defs4\">\n",
       "    <marker id=\"DiamondSstart\" inkscape:isstock=\"true\" inkscape:stockid=\"DiamondSstart\" orient=\"auto\" refX=\"0\" refY=\"0\" style=\"overflow:visible\">\n",
       "      <path d=\"M 0,-7.0710768 -7.0710894,0 0,7.0710589 7.0710462,0 0,-7.0710768 Z\" id=\"path8795\" inkscape:connector-curvature=\"0\" style=\"fill:#000000;fill-opacity:1;fill-rule:evenodd;stroke:#000000;stroke-width:1pt;stroke-opacity:1\" transform=\"matrix(0.2,0,0,0.2,1.2,0)\"/>\n",
       "    </marker>\n",
       "    <marker id=\"DotS\" inkscape:isstock=\"true\" inkscape:stockid=\"DotS\" orient=\"auto\" refX=\"0\" refY=\"0\" style=\"overflow:visible\">\n",
       "      <path d=\"m -2.5,-1 c 0,2.76 -2.24,5 -5,5 -2.76,0 -5,-2.24 -5,-5 0,-2.76 2.24,-5 5,-5 2.76,0 5,2.24 5,5 z\" id=\"path8768\" inkscape:connector-curvature=\"0\" style=\"fill:#000000;fill-opacity:1;fill-rule:evenodd;stroke:#000000;stroke-width:1pt;stroke-opacity:1\" transform=\"matrix(0.2,0,0,0.2,1.48,0.2)\"/>\n",
       "    </marker>\n",
       "    <marker id=\"DiamondSend\" inkscape:isstock=\"true\" inkscape:stockid=\"DiamondSend\" orient=\"auto\" refX=\"0\" refY=\"0\" style=\"overflow:visible\">\n",
       "      <path d=\"M 0,-7.0710768 -7.0710894,0 0,7.0710589 7.0710462,0 0,-7.0710768 Z\" id=\"path8804\" inkscape:connector-curvature=\"0\" style=\"fill:#000000;fill-opacity:1;fill-rule:evenodd;stroke:#000000;stroke-width:1pt;stroke-opacity:1\" transform=\"matrix(0.2,0,0,0.2,-1.2,0)\"/>\n",
       "    </marker>\n",
       "    <marker id=\"DistanceStart\" inkscape:isstock=\"true\" inkscape:stockid=\"DistanceStart\" orient=\"auto\" refX=\"0\" refY=\"0\" style=\"overflow:visible\">\n",
       "      <g id=\"g2300\" style=\"fill:#000000;fill-opacity:1;stroke:#000000;stroke-opacity:1\">\n",
       "        <path d=\"M 0,0 2,0\" id=\"path2306\" inkscape:connector-curvature=\"0\" style=\"fill:#000000;fill-opacity:1;stroke:#000000;stroke-width:1.14999998;stroke-linecap:square;stroke-opacity:1\"/>\n",
       "        <path d=\"M 0,0 13,4 9,0 13,-4 0,0 Z\" id=\"path2302\" inkscape:connector-curvature=\"0\" style=\"fill:#000000;fill-opacity:1;fill-rule:evenodd;stroke:#000000;stroke-opacity:1\"/>\n",
       "        <path d=\"M 0,-4 0,40\" id=\"path2304\" inkscape:connector-curvature=\"0\" style=\"fill:#000000;fill-opacity:1;stroke:#000000;stroke-width:1;stroke-linecap:square;stroke-opacity:1\"/>\n",
       "      </g>\n",
       "    </marker>\n",
       "    <linearGradient id=\"linearGradient7662\" inkscape:collect=\"always\">\n",
       "      <stop id=\"stop7666\" offset=\"0\" style=\"stop-color:#cf0000;stop-opacity:0;\"/>\n",
       "      <stop id=\"stop7664\" offset=\"1\" style=\"stop-color:#cf0000;stop-opacity:1;\"/>\n",
       "    </linearGradient>\n",
       "    <linearGradient id=\"linearGradient7603\" inkscape:collect=\"always\">\n",
       "      <stop id=\"stop7605\" offset=\"0\" style=\"stop-color:#cf0000;stop-opacity:1;\"/>\n",
       "      <stop id=\"stop7607\" offset=\"1\" style=\"stop-color:#cf0000;stop-opacity:0;\"/>\n",
       "    </linearGradient>\n",
       "    <linearGradient id=\"linearGradient7595\" osb:paint=\"solid\">\n",
       "      <stop id=\"stop7597\" offset=\"0\" style=\"stop-color:#cf0000;stop-opacity:1;\"/>\n",
       "    </linearGradient>\n",
       "    <linearGradient id=\"linearGradient7587\" osb:paint=\"solid\">\n",
       "      <stop id=\"stop7589\" offset=\"0\" style=\"stop-color:#000000;stop-opacity:1;\"/>\n",
       "    </linearGradient>\n",
       "    <linearGradient id=\"linearGradient5719\" osb:paint=\"gradient\">\n",
       "      <stop id=\"stop5721\" offset=\"0\" style=\"stop-color:#473019;stop-opacity:1;\"/>\n",
       "      <stop id=\"stop5723\" offset=\"1\" style=\"stop-color:#473019;stop-opacity:0;\"/>\n",
       "    </linearGradient>\n",
       "    <radialGradient cx=\"666.23688\" cy=\"203.59898\" fx=\"666.23688\" fy=\"203.59898\" gradientUnits=\"userSpaceOnUse\" id=\"radialGradient7609\" inkscape:collect=\"always\" r=\"21.236879\" xlink:href=\"#linearGradient7603\"/>\n",
       "    <radialGradient cx=\"665.53198\" cy=\"203.30418\" fx=\"665.53198\" fy=\"203.30418\" gradientTransform=\"matrix(3.8524799,-1.3584562,1.9197331,5.4442188,-2288.7064,0.56778205)\" gradientUnits=\"userSpaceOnUse\" id=\"radialGradient7668\" inkscape:collect=\"always\" r=\"37.500004\" xlink:href=\"#linearGradient7662\"/>\n",
       "    <marker id=\"DiamondSend-3\" inkscape:isstock=\"true\" inkscape:stockid=\"DiamondSend\" orient=\"auto\" refX=\"0\" refY=\"0\" style=\"overflow:visible\">\n",
       "      <path d=\"M 0,-7.0710768 -7.0710894,0 0,7.0710589 7.0710462,0 0,-7.0710768 Z\" id=\"path8804-6\" inkscape:connector-curvature=\"0\" style=\"fill:#000000;fill-opacity:1;fill-rule:evenodd;stroke:#000000;stroke-width:1pt;stroke-opacity:1\" transform=\"matrix(0.2,0,0,0.2,-1.2,0)\"/>\n",
       "    </marker>\n",
       "    <marker id=\"DiamondSstart-1\" inkscape:isstock=\"true\" inkscape:stockid=\"DiamondSstart\" orient=\"auto\" refX=\"0\" refY=\"0\" style=\"overflow:visible\">\n",
       "      <path d=\"M 0,-7.0710768 -7.0710894,0 0,7.0710589 7.0710462,0 0,-7.0710768 Z\" id=\"path8795-0\" inkscape:connector-curvature=\"0\" style=\"fill:#000000;fill-opacity:1;fill-rule:evenodd;stroke:#000000;stroke-width:1pt;stroke-opacity:1\" transform=\"matrix(0.2,0,0,0.2,1.2,0)\"/>\n",
       "    </marker>\n",
       "  </defs>\n",
       "  <metadata id=\"metadata7\">\n",
       "    <rdf:RDF>\n",
       "      <cc:Work rdf:about=\"\">\n",
       "        <dc:format>image/svg+xml</dc:format>\n",
       "        <dc:type rdf:resource=\"http://purl.org/dc/dcmitype/StillImage\"/>\n",
       "        <dc:title/>\n",
       "      </cc:Work>\n",
       "    </rdf:RDF>\n",
       "  </metadata>\n",
       "  <g id=\"layer1\" inkscape:groupmode=\"layer\" inkscape:label=\"Layer 1\" transform=\"translate(-181.52762,-32.362213)\">\n",
       "    <g id=\"g7676\" style=\"stroke:#626262;stroke-opacity:0.7295598\" transform=\"translate(-25.336648,50.673297)\">\n",
       "      <path d=\"m 554.48996,47.862068 208.22076,0\" id=\"path6102-0\" inkscape:connector-curvature=\"0\" inkscape:tile-cx=\"477.07272\" inkscape:tile-cy=\"16.667566\" inkscape:tile-h=\"0.99999982\" inkscape:tile-w=\"208.22076\" inkscape:tile-x0=\"372.96234\" inkscape:tile-y0=\"16.167566\" style=\"opacity:1;fill:none;fill-rule:evenodd;stroke:#626262;stroke-width:0.99999982px;stroke-linecap:butt;stroke-linejoin:miter;stroke-opacity:0.7295598\"/>\n",
       "      <path d=\"m 571,34.362068 0,135.000012\" id=\"use7387\" inkscape:connector-curvature=\"0\" inkscape:tile-x0=\"372.97238\" inkscape:tile-y0=\"3.167566\" style=\"opacity:1;fill:none;fill-rule:evenodd;stroke:#626262;stroke-width:1px;stroke-linecap:butt;stroke-linejoin:miter;stroke-opacity:0.7295598\"/>\n",
       "      <path d=\"m 587,34.362068 0,135.000012\" id=\"use7389\" inkscape:connector-curvature=\"0\" inkscape:tile-x0=\"372.97238\" inkscape:tile-y0=\"3.167566\" style=\"opacity:1;fill:none;fill-rule:evenodd;stroke:#626262;stroke-width:1px;stroke-linecap:butt;stroke-linejoin:miter;stroke-opacity:0.7295598\"/>\n",
       "      <path d=\"m 603,34.362068 0,135.000012\" id=\"use7391\" inkscape:connector-curvature=\"0\" inkscape:tile-x0=\"372.97238\" inkscape:tile-y0=\"3.167566\" style=\"opacity:1;fill:none;fill-rule:evenodd;stroke:#626262;stroke-width:1px;stroke-linecap:butt;stroke-linejoin:miter;stroke-opacity:0.7295598\"/>\n",
       "      <path d=\"m 619,34.362068 0,135.000012\" id=\"use7393\" inkscape:connector-curvature=\"0\" inkscape:tile-x0=\"372.97238\" inkscape:tile-y0=\"3.167566\" style=\"opacity:1;fill:none;fill-rule:evenodd;stroke:#626262;stroke-width:1px;stroke-linecap:butt;stroke-linejoin:miter;stroke-opacity:0.7295598\"/>\n",
       "      <path d=\"m 635,34.362068 0,135.000012\" id=\"use7395\" inkscape:connector-curvature=\"0\" inkscape:tile-x0=\"372.97238\" inkscape:tile-y0=\"3.167566\" style=\"opacity:1;fill:none;fill-rule:evenodd;stroke:#626262;stroke-width:1px;stroke-linecap:butt;stroke-linejoin:miter;stroke-opacity:0.7295598\"/>\n",
       "      <path d=\"m 651,34.362068 0,135.000012\" id=\"use7397\" inkscape:connector-curvature=\"0\" inkscape:tile-x0=\"372.97238\" inkscape:tile-y0=\"3.167566\" style=\"opacity:1;fill:none;fill-rule:evenodd;stroke:#626262;stroke-width:1px;stroke-linecap:butt;stroke-linejoin:miter;stroke-opacity:0.7295598\"/>\n",
       "      <path d=\"m 667,34.362068 0,135.000012\" id=\"use7399\" inkscape:connector-curvature=\"0\" inkscape:tile-x0=\"372.97238\" inkscape:tile-y0=\"3.167566\" style=\"opacity:1;fill:none;fill-rule:evenodd;stroke:#626262;stroke-width:1px;stroke-linecap:butt;stroke-linejoin:miter;stroke-opacity:0.7295598\"/>\n",
       "      <path d=\"m 683,34.362068 0,135.000012\" id=\"use7401\" inkscape:connector-curvature=\"0\" inkscape:tile-x0=\"372.97238\" inkscape:tile-y0=\"3.167566\" style=\"opacity:1;fill:none;fill-rule:evenodd;stroke:#626262;stroke-width:1px;stroke-linecap:butt;stroke-linejoin:miter;stroke-opacity:0.7295598\"/>\n",
       "      <path d=\"m 699,34.362068 0,135.000012\" id=\"use7403\" inkscape:connector-curvature=\"0\" inkscape:tile-x0=\"372.97238\" inkscape:tile-y0=\"3.167566\" style=\"opacity:1;fill:none;fill-rule:evenodd;stroke:#626262;stroke-width:1px;stroke-linecap:butt;stroke-linejoin:miter;stroke-opacity:0.7295598\"/>\n",
       "      <path d=\"m 715,34.362068 0,135.000012\" id=\"use7405\" inkscape:connector-curvature=\"0\" inkscape:tile-x0=\"372.97238\" inkscape:tile-y0=\"3.167566\" style=\"opacity:1;fill:none;fill-rule:evenodd;stroke:#626262;stroke-width:1px;stroke-linecap:butt;stroke-linejoin:miter;stroke-opacity:0.7295598\"/>\n",
       "      <path d=\"m 731,34.362068 0,135.000012\" id=\"use7407\" inkscape:connector-curvature=\"0\" inkscape:tile-x0=\"372.97238\" inkscape:tile-y0=\"3.167566\" style=\"opacity:1;fill:none;fill-rule:evenodd;stroke:#626262;stroke-width:1px;stroke-linecap:butt;stroke-linejoin:miter;stroke-opacity:0.7295598\"/>\n",
       "      <path d=\"m 747,34.362068 0,135.000012\" id=\"use7409\" inkscape:connector-curvature=\"0\" inkscape:tile-x0=\"372.97238\" inkscape:tile-y0=\"3.167566\" style=\"opacity:1;fill:none;fill-rule:evenodd;stroke:#626262;stroke-width:1px;stroke-linecap:butt;stroke-linejoin:miter;stroke-opacity:0.7295598\"/>\n",
       "      <use height=\"100%\" id=\"use7541\" inkscape:tiled-clone-of=\"#path6102-0\" style=\"opacity:1;stroke:#626262;stroke-opacity:0.7295598\" width=\"100%\" x=\"0\" xlink:href=\"#path6102-0\" y=\"0\"/>\n",
       "      <use height=\"100%\" id=\"use7543\" inkscape:tiled-clone-of=\"#path6102-0\" style=\"opacity:1;stroke:#626262;stroke-opacity:0.7295598\" transform=\"translate(0,14.999997)\" width=\"100%\" x=\"0\" xlink:href=\"#path6102-0\" y=\"0\"/>\n",
       "      <use height=\"100%\" id=\"use7545\" inkscape:tiled-clone-of=\"#path6102-0\" style=\"opacity:1;stroke:#626262;stroke-opacity:0.7295598\" transform=\"translate(0,29.999995)\" width=\"100%\" x=\"0\" xlink:href=\"#path6102-0\" y=\"0\"/>\n",
       "      <use height=\"100%\" id=\"use7547\" inkscape:tiled-clone-of=\"#path6102-0\" style=\"opacity:1;stroke:#626262;stroke-opacity:0.7295598\" transform=\"translate(0,44.999992)\" width=\"100%\" x=\"0\" xlink:href=\"#path6102-0\" y=\"0\"/>\n",
       "      <use height=\"100%\" id=\"use7549\" inkscape:tiled-clone-of=\"#path6102-0\" style=\"opacity:1;stroke:#626262;stroke-opacity:0.7295598\" transform=\"translate(0,59.999989)\" width=\"100%\" x=\"0\" xlink:href=\"#path6102-0\" y=\"0\"/>\n",
       "      <use height=\"100%\" id=\"use7551\" inkscape:tiled-clone-of=\"#path6102-0\" style=\"opacity:1;stroke:#626262;stroke-opacity:0.7295598\" transform=\"translate(0,74.999987)\" width=\"100%\" x=\"0\" xlink:href=\"#path6102-0\" y=\"0\"/>\n",
       "      <use height=\"100%\" id=\"use7553\" inkscape:tiled-clone-of=\"#path6102-0\" style=\"opacity:1;stroke:#626262;stroke-opacity:0.7295598\" transform=\"translate(0,89.999984)\" width=\"100%\" x=\"0\" xlink:href=\"#path6102-0\" y=\"0\"/>\n",
       "      <use height=\"100%\" id=\"use7555\" inkscape:tiled-clone-of=\"#path6102-0\" style=\"opacity:1;stroke:#626262;stroke-opacity:0.7295598\" transform=\"translate(0,104.99998)\" width=\"100%\" x=\"0\" xlink:href=\"#path6102-0\" y=\"0\"/>\n",
       "    </g>\n",
       "    <g id=\"g4182\" transform=\"matrix(0,-0.56567433,1,0,-84.689454,510.96873)\">\n",
       "      <path d=\"m 255.02494,286.77793 0,256.66183 a 25.705154,128.33105 0 0 0 22.26171,-64.1645 25.705154,128.33105 0 0 0 0,-128.33092 25.705154,128.33105 0 0 0 -22.26171,-64.16641 z\" id=\"path4136-3\" inkscape:connector-curvature=\"0\" style=\"opacity:0.572;fill:#3adbf3;fill-opacity:0.44654092;stroke:none;stroke-width:1.40900004;stroke-miterlimit:4;stroke-dasharray:none;stroke-dashoffset:0;stroke-opacity:1\"/>\n",
       "      <rect height=\"255\" id=\"rect4165\" style=\"opacity:0.572;fill:#3adbf3;fill-opacity:0.44654092;stroke:none;stroke-width:1.40900004;stroke-miterlimit:4;stroke-dasharray:none;stroke-dashoffset:0;stroke-opacity:1\" width=\"30\" x=\"225\" y=\"287.36218\"/>\n",
       "      <path d=\"m 225.73048,286.77793 0,256.66183 a 25.705154,128.33105 0 0 1 -22.26171,-64.1645 25.705154,128.33105 0 0 1 0,-128.33092 25.705154,128.33105 0 0 1 22.26171,-64.16641 z\" id=\"path4136-3-6\" inkscape:connector-curvature=\"0\" style=\"opacity:0.572;fill:#3adbf3;fill-opacity:0.44654092;stroke:none;stroke-width:1.40900004;stroke-miterlimit:4;stroke-dasharray:none;stroke-dashoffset:0;stroke-opacity:1\"/>\n",
       "    </g>\n",
       "    <rect height=\"15\" id=\"rect4187\" style=\"opacity:0.572;fill:#000000;fill-opacity:0.98742137;stroke:none;stroke-width:1.40900004;stroke-miterlimit:4;stroke-dasharray:none;stroke-dashoffset:0;stroke-opacity:1\" width=\"105\" x=\"277\" y=\"497.36218\"/>\n",
       "    <g id=\"g4195\" style=\"fill:none;fill-opacity:0.98742137;stroke:#a11616;stroke-opacity:1\">\n",
       "      <path d=\"m 330,497.3622 -60,-120 0,-210.00001\" id=\"path4189\" inkscape:connector-curvature=\"0\" style=\"fill:none;fill-opacity:0.98742137;fill-rule:evenodd;stroke:#a11616;stroke-width:1px;stroke-linecap:butt;stroke-linejoin:miter;stroke-opacity:1\"/>\n",
       "      <path d=\"m 330,497.3622 60,-120 0,-210.00001\" id=\"path4191\" inkscape:connector-curvature=\"0\" style=\"fill:none;fill-opacity:0.98742137;fill-rule:evenodd;stroke:#a11616;stroke-width:1px;stroke-linecap:butt;stroke-linejoin:miter;stroke-opacity:1\"/>\n",
       "      <path d=\"m 330,497.3622 0,-330.00001\" id=\"path4193\" inkscape:connector-curvature=\"0\" style=\"fill:none;fill-opacity:0.98742137;fill-rule:evenodd;stroke:#a11616;stroke-width:1px;stroke-linecap:butt;stroke-linejoin:miter;stroke-opacity:1\"/>\n",
       "    </g>\n",
       "    <g id=\"g4242\">\n",
       "      <rect height=\"15\" id=\"rect4187-5\" style=\"opacity:1;fill:#000000;fill-opacity:1;stroke:none;stroke-width:1.40900004;stroke-miterlimit:4;stroke-dasharray:none;stroke-dashoffset:0;stroke-opacity:1\" width=\"105\" x=\"181.52762\" y=\"273.42639\"/>\n",
       "      <rect height=\"15\" id=\"rect4187-7\" style=\"opacity:1;fill:#000000;fill-opacity:1;stroke:none;stroke-width:1.40900004;stroke-miterlimit:4;stroke-dasharray:none;stroke-dashoffset:0;stroke-opacity:1\" width=\"105\" x=\"374.42203\" y=\"273.7518\"/>\n",
       "    </g>\n",
       "    <g id=\"g4182-3\" transform=\"matrix(0,-0.56567433,1,0,-83.689451,306.96873)\">\n",
       "      <path d=\"m 255.02494,286.77793 0,256.66183 a 25.705154,128.33105 0 0 0 22.26171,-64.1645 25.705154,128.33105 0 0 0 0,-128.33092 25.705154,128.33105 0 0 0 -22.26171,-64.16641 z\" id=\"path4136-3-5\" inkscape:connector-curvature=\"0\" style=\"opacity:0.572;fill:#3adbf3;fill-opacity:0.44654092;stroke:none;stroke-width:1.40900004;stroke-miterlimit:4;stroke-dasharray:none;stroke-dashoffset:0;stroke-opacity:1\"/>\n",
       "      <rect height=\"255\" id=\"rect4165-6\" style=\"opacity:0.572;fill:#3adbf3;fill-opacity:0.44654092;stroke:none;stroke-width:1.40900004;stroke-miterlimit:4;stroke-dasharray:none;stroke-dashoffset:0;stroke-opacity:1\" width=\"30\" x=\"225\" y=\"287.36218\"/>\n",
       "      <path d=\"m 225.73048,286.77793 0,256.66183 a 25.705154,128.33105 0 0 1 -22.26171,-64.1645 25.705154,128.33105 0 0 1 0,-128.33092 25.705154,128.33105 0 0 1 22.26171,-64.16641 z\" id=\"path4136-3-6-2\" inkscape:connector-curvature=\"0\" style=\"opacity:0.572;fill:#3adbf3;fill-opacity:0.44654092;stroke:none;stroke-width:1.40900004;stroke-miterlimit:4;stroke-dasharray:none;stroke-dashoffset:0;stroke-opacity:1\"/>\n",
       "    </g>\n",
       "    <rect height=\"15\" id=\"rect4187-9\" style=\"opacity:0.572;fill:#473019;fill-opacity:0.98742137;stroke:none;stroke-width:1.40900004;stroke-miterlimit:4;stroke-dasharray:none;stroke-dashoffset:0;stroke-opacity:1\" width=\"227.29424\" x=\"220\" y=\"32.362183\"/>\n",
       "    <path d=\"M 270,167.36219 330,47.362192 330,167.36219\" id=\"path5729\" inkscape:connector-curvature=\"0\" style=\"fill:none;fill-rule:evenodd;stroke:#a11616;stroke-width:1px;stroke-linecap:butt;stroke-linejoin:miter;stroke-opacity:1\"/>\n",
       "    <path d=\"M 330,47.362192 390,167.36219\" id=\"path5731\" inkscape:connector-curvature=\"0\" style=\"fill:none;fill-rule:evenodd;stroke:#a11616;stroke-width:1px;stroke-linecap:butt;stroke-linejoin:miter;stroke-opacity:1\"/>\n",
       "    <rect height=\"135\" id=\"rect5752\" style=\"opacity:0.28800001;fill:#db0606;fill-opacity:0.98742137;stroke:none;stroke-width:1.40900004;stroke-miterlimit:4;stroke-dasharray:none;stroke-dashoffset:0;stroke-opacity:1\" width=\"60\" x=\"299.22107\" y=\"511.78329\"/>\n",
       "    <g id=\"g6003\" transform=\"translate(178.37821,392.58786)\">\n",
       "      <g font-size-adjust=\"none\" font-stretch=\"normal\" font-style=\"normal\" font-variant=\"normal\" font-weight=\"normal\" id=\"g6005\" letter-spacing=\"normal\" stroke-miterlimit=\"10.433\" style=\"font-style:normal;font-variant:normal;font-weight:normal;font-stretch:normal;letter-spacing:normal;word-spacing:normal;text-anchor:start;fill:none;fill-opacity:1;fill-rule:evenodd;stroke:#000000;stroke-linecap:butt;stroke-linejoin:miter;stroke-miterlimit:10.43299961;stroke-dasharray:none;stroke-dashoffset:0;stroke-opacity:1\" transform=\"matrix(0.67865679,0,0,-0.67865679,-118.76494,460.81583)\" word-spacing=\"normal\" xml:space=\"preserve\"><path d=\"m 474.89,408.25 -8.76,19.37 c -0.34,0.8 -0.59,0.8 -0.75,0.8 -0.05,0 -0.3,0 -0.84,-0.39 l -4.74,-3.6 c -0.64,-0.5 -0.64,-0.64 -0.64,-0.79 0,-0.25 0.14,-0.55 0.5,-0.55 0.3,0 1.14,0.7 1.69,1.09 0.29,0.25 1.04,0.8 1.59,1.21 l 9.81,-21.58 c 0.36,-0.8 0.61,-0.8 1.05,-0.8 0.75,0 0.91,0.3 1.25,1 l 22.63,46.83 c 0.34,0.7 0.34,0.89 0.34,1 0,0.5 -0.41,1 -1,1 -0.39,0 -0.75,-0.25 -1.14,-1.05 z\" id=\"path6007\" inkscape:connector-curvature=\"0\" style=\"fill:#000000;stroke-width:0\"/><polyline id=\"polyline6009\" points=\"497,451 522.92,451 522.92,453.04 497,453.04 \" style=\"fill:#000000;fill-rule:nonzero;stroke-width:0\"/><path d=\"m 515.68,436.39 0.04,0.16 0.04,0.16 0.04,0.15 0.04,0.14 0.04,0.14 0.04,0.13 0.05,0.12 0.05,0.11 0.05,0.11 0.06,0.11 0.07,0.09 0.07,0.09 0.08,0.09 0.08,0.08 0.1,0.07 0.1,0.07 0.12,0.06 0.12,0.06 0.14,0.05 0.15,0.05 0.17,0.04 0.08,0.02 0.09,0.02 0.1,0.02 0.1,0.02 0.1,0.01 0.1,0.02 0.11,0.01 0.12,0.01 0.12,0.02 0.12,0.01 0.13,0.01 0.13,0 0.13,0.01 0.14,0.01 0.15,0.01 0.15,0 0.16,0 0.16,0.01 0.16,0 0.17,0 0.18,0 0.18,0 c 1.19,0 1.59,0 1.59,0.96 0,0.59 -0.54,0.59 -0.75,0.59 -1.45,0 -5.14,-0.16 -6.57,-0.16 -1.5,0 -5.13,0.16 -6.63,0.16 -0.34,0 -1,0 -1,-1 0,-0.55 0.45,-0.55 1.39,-0.55 2.1,0 3.44,0 3.44,-0.95 0,-0.25 0,-0.34 -0.09,-0.8 l -6.72,-26.84 c -0.46,-1.84 -0.61,-2.34 -4.55,-2.34 -1.14,0 -1.59,0 -1.59,-1 0,-0.55 0.61,-0.55 0.75,-0.55 1.45,0 5.07,0.16 6.53,0.16 1.5,0 5.19,-0.16 6.67,-0.16 0.41,0 1,0 1,0.95 0,0.6 -0.41,0.6 -1.5,0.6 -0.89,0 -1.14,0 -2.14,0.09 -1.05,0.11 -1.24,0.3 -1.24,0.84 0,0.41 0.1,0.8 0.19,1.16 z\" id=\"path6011\" inkscape:connector-curvature=\"0\" style=\"fill:#000000;stroke-width:0\"/><path d=\"m 532.15,417.71 0.14,0.01 0.16,0 0.17,0 0.17,0 0.19,0.01 0.2,0 0.21,0.01 0.22,0.01 0.22,0.01 0.23,0.01 0.24,0.01 0.25,0.02 0.25,0.02 0.25,0.02 0.53,0.05 0.53,0.07 0.55,0.07 0.54,0.1 0.54,0.11 0.54,0.12 0.26,0.07 0.26,0.08 0.25,0.08 0.25,0.08 0.24,0.09 0.24,0.1 c 3.48,1.5 3.73,4.43 3.73,5.12 0,2.2 -1.89,4.23 -5.33,4.23 l 0,-1.09 c 2.35,0 3.69,-1.44 3.69,-3.14 0,-5.17 -7.97,-5.17 -10.02,-5.17 l -2.04,0 c 1.95,7.56 7.08,8.31 8.37,8.31 l 0,1.09 c -5.53,0 -13.04,-4.82 -13.04,-13.54 0,-5.08 2.93,-9.02 7.81,-9.02 7.12,0 11.31,5.28 11.31,5.88 0,0.29 -0.29,0.65 -0.59,0.65 -0.25,0 -0.35,-0.11 -0.66,-0.5 -3.94,-4.93 -9.36,-4.93 -9.95,-4.93 -3.89,0 -4.34,4.18 -4.34,5.78 0,0.59 0.04,2.14 0.79,5.18 z\" id=\"path6013\" inkscape:connector-curvature=\"0\" style=\"fill:#000000;stroke-width:0\"/><path d=\"m 557.3,448.5 0,0.05 -0.01,0.06 0,0.05 -0.01,0.05 -0.01,0.06 -0.02,0.06 -0.02,0.05 -0.01,0.06 -0.03,0.05 -0.02,0.06 -0.03,0.06 -0.03,0.05 -0.03,0.05 -0.04,0.06 -0.04,0.05 -0.04,0.05 -0.04,0.05 -0.05,0.04 -0.05,0.05 -0.05,0.04 -0.06,0.04 -0.06,0.04 -0.06,0.04 -0.06,0.03 -0.07,0.03 -0.07,0.02 -0.08,0.02 -0.08,0.02 -0.08,0.02 -0.08,0.01 -0.09,0.01 -0.09,0 c -0.94,0 -1.95,-0.91 -1.95,-1.92 0,-0.6 0.45,-1.33 1.4,-1.33 1,0 1.96,0.98 1.96,1.92 z\" id=\"path6015\" inkscape:connector-curvature=\"0\" style=\"fill:#000000;stroke-width:0\"/><path d=\"m 550.19,430.8 -0.06,-0.17 -0.05,-0.17 -0.03,-0.08 -0.02,-0.09 -0.03,-0.09 -0.02,-0.08 -0.02,-0.09 -0.02,-0.1 -0.02,-0.09 -0.02,-0.1 -0.01,-0.09 0,-0.06 -0.01,-0.05 0,-0.05 0,-0.05 0,-0.06 0,-0.05 c 0,-1.64 1.39,-2.95 3.29,-2.95 3.49,0 5.03,4.79 5.03,5.32 0,0.46 -0.45,0.46 -0.56,0.46 -0.48,0 -0.53,-0.21 -0.67,-0.6 -0.8,-2.78 -2.33,-4.22 -3.69,-4.22 -0.7,0 -0.87,0.46 -0.87,1.22 0,0.8 0.25,1.47 0.56,2.24 0.34,0.93 0.73,1.87 1.11,2.78 0.31,0.84 1.58,4.01 1.72,4.44 0.09,0.34 0.2,0.76 0.2,1.1 0,1.65 -1.39,2.96 -3.31,2.96 -3.46,0 -5.05,-4.74 -5.05,-5.33 0,-0.45 0.48,-0.45 0.59,-0.45 0.49,0 0.52,0.17 0.63,0.56 0.91,3 2.44,4.25 3.72,4.25 0.56,0 0.87,-0.28 0.87,-1.22 0,-0.8 -0.2,-1.33 -1.07,-3.48 z\" id=\"path6017\" inkscape:connector-curvature=\"0\" style=\"fill:#000000;stroke-width:0\"/><path d=\"m 577.18,450.45 0,0.02 0,0.02 0,0.02 0,0.02 -0.01,0.02 0,0.02 0,0.02 -0.01,0.01 0,0.02 -0.01,0.01 0,0.02 -0.01,0.01 -0.01,0.02 0,0.01 -0.01,0.01 -0.01,0.01 -0.01,0.02 -0.01,0.01 0,0.01 -0.01,0.01 -0.02,0.02 -0.02,0.02 -0.02,0.01 -0.03,0.02 -0.02,0.01 -0.02,0.01 -0.03,0.01 -0.02,0.01 -0.03,0.01 -0.02,0 -0.03,0.01 -0.02,0 -0.02,0.01 -0.03,0 -0.02,0 -0.03,0 -0.02,0 -0.02,0.01 -0.02,0 -0.02,0 -0.02,0 -0.01,0 c -0.52,0 -0.55,-0.19 -0.69,-0.77 l -1.99,-7.98 c -6.17,-0.28 -11.43,-4.71 -11.43,-9.38 0,-3.94 3.59,-6.31 7.45,-6.45 l 0.25,0.98 c -2.69,0.14 -5.16,1.6 -5.16,4.88 0,3.48 2.64,8.4 8.61,8.95 l -3.45,-13.83 -0.25,-0.98 c -0.28,-1.08 -0.52,-2.19 -0.8,-3.27 -0.42,-1.64 -0.73,-2.92 -0.73,-3.03 0,-0.42 0.45,-0.42 0.56,-0.42 0.52,0 0.56,0.11 0.74,0.84 l 1.45,5.85 c 5.97,0.25 11.44,4.64 11.44,9.37 0,3.66 -3.21,6.28 -7.46,6.45 l -0.28,-0.98 c 2.67,-0.09 5.19,-1.56 5.19,-4.87 0,-3.8 -3,-8.47 -8.64,-8.96 l 3.45,13.83 0.28,0.98 z\" id=\"path6019\" inkscape:connector-curvature=\"0\" style=\"fill:#000000;stroke-width:0\"/><path d=\"m 596.41,452.86 -0.6,-0.45 -0.58,-0.46 -0.55,-0.47 -0.53,-0.49 -0.5,-0.5 -0.47,-0.51 -0.45,-0.53 -0.42,-0.53 -0.4,-0.54 -0.37,-0.55 -0.36,-0.56 -0.33,-0.56 -0.31,-0.57 -0.28,-0.57 -0.27,-0.58 -0.25,-0.58 -0.23,-0.58 -0.2,-0.58 -0.2,-0.59 -0.17,-0.58 -0.15,-0.58 -0.14,-0.58 -0.13,-0.57 -0.1,-0.57 -0.1,-0.57 -0.08,-0.56 -0.06,-0.55 -0.05,-0.55 -0.04,-0.53 -0.03,-0.53 -0.02,-0.52 0,-0.5 c 0,-4.92 1.47,-12.55 8.37,-17.42 0.29,0 0.69,0 0.69,0.4 0,0.22 -0.09,0.28 -0.34,0.53 -4.64,4.19 -6.35,10.11 -6.35,16.46 0,9.4 3.6,14 6.46,16.58 0.14,0.14 0.23,0.25 0.23,0.42 0,0.42 -0.4,0.42 -0.69,0.42 z\" id=\"path6021\" inkscape:connector-curvature=\"0\" style=\"fill:#000000;stroke-width:0\"/><path d=\"m 610.54,449.86 0,0 0.01,0.01 0,0 0,0.01 0,0 0,0.01 0.01,0 0,0.01 0,0.01 0,0 0.01,0.02 0,0.02 0.01,0.02 0,0.02 0.01,0.02 0.01,0.02 0,0.02 0.01,0.02 0,0.03 0.02,0.04 0.01,0.05 0,0.02 0.01,0.03 0,0.02 0.01,0.02 0,0.02 0.01,0.02 0,0.01 0,0.02 0.01,0.01 0,0 0,0.01 0,0.01 0,0 0,0.01 0,0 0,0.01 0,0 0,0 0,0 0,0.01 c 0,0.18 -0.14,0.5 -0.56,0.5 -0.69,0 -3.58,-0.29 -4.45,-0.36 -0.28,-0.03 -0.77,-0.07 -0.77,-0.8 0,-0.48 0.49,-0.48 0.91,-0.48 1.67,0 1.67,-0.25 1.67,-0.54 0,-0.23 -0.08,-0.45 -0.14,-0.76 l -4.92,-19.72 c -0.17,-0.63 -0.17,-0.69 -0.17,-0.77 0,-0.51 0.42,-1.1 1.18,-1.1 0.94,0 1.39,0.68 1.61,1.45 0.06,0.14 1.56,6.28 1.71,6.76 2.47,-0.25 4.45,-1.04 4.45,-2.86 0,-0.17 0,-0.34 -0.06,-0.68 -0.14,-0.53 -0.14,-0.71 -0.14,-1.1 0,-2.47 2.01,-3.57 3.68,-3.57 3.39,0 4.44,5.29 4.44,5.32 0,0.46 -0.45,0.46 -0.56,0.46 -0.49,0 -0.53,-0.18 -0.71,-0.85 -0.4,-1.5 -1.35,-3.97 -3.06,-3.97 -0.94,0 -1.22,0.88 -1.22,1.82 0,0.59 0,0.65 0.21,1.56 0.04,0.11 0.19,0.7 0.19,1.09 0,3.1 -4.19,3.58 -5.66,3.69 1.01,0.62 2.29,1.78 2.89,2.3 1.78,1.67 3.53,3.31 5.47,3.31 0.42,0 0.87,-0.11 1.15,-0.45 -1.5,-0.25 -1.81,-1.43 -1.81,-1.96 0,-0.76 0.59,-1.28 1.39,-1.28 0.95,0 1.99,0.77 1.99,2.22 0,1.16 -0.83,2.44 -2.67,2.44 -1.99,0 -3.8,-1.42 -5.58,-3.06 -1.47,-1.4 -2.61,-2.47 -4.05,-3.07 z\" id=\"path6023\" inkscape:connector-curvature=\"0\" style=\"fill:#000000;stroke-width:0\"/><path d=\"m 636.23,431.57 -0.05,-0.02 -0.05,-0.02 -0.05,-0.02 -0.05,-0.02 -0.05,-0.02 -0.04,-0.02 -0.04,-0.02 -0.05,-0.02 -0.04,-0.03 -0.04,-0.02 -0.03,-0.03 -0.04,-0.03 -0.03,-0.02 -0.04,-0.03 -0.03,-0.03 -0.03,-0.03 -0.06,-0.05 -0.05,-0.06 -0.05,-0.06 -0.04,-0.07 -0.04,-0.06 -0.04,-0.06 -0.03,-0.06 -0.03,-0.06 -0.02,-0.06 -0.02,-0.06 -0.02,-0.06 -0.02,-0.05 -0.01,-0.05 -0.02,-0.05 0,-0.05 -0.01,-0.04 -0.01,-0.04 0,-0.04 -0.01,-0.03 0,-0.03 0,-0.02 0,-0.01 0,-0.01 0,0 0,-0.01 0,0 0,0 c 0,-0.42 0.3,-1.02 1.11,-1.02 0.7,0 1.55,0.6 1.55,1.69 0,1.47 -1.65,2.05 -2.96,2.05 -1.62,0 -2.67,-1.05 -3.17,-1.71 -0.83,1.43 -2.42,1.71 -3.31,1.71 -3.11,0 -4.88,-2.94 -4.88,-3.86 0,-0.36 0.39,-0.36 0.52,-0.36 0.22,0 0.42,0.03 0.53,0.29 0.74,2.46 2.78,3.07 3.74,3.07 0.81,0 1.76,-0.35 1.76,-1.66 0,-0.62 -0.45,-2.34 -1.3,-5.66 -0.37,-1.42 -1.51,-2.26 -2.59,-2.26 -0.17,0 -0.89,0 -1.49,0.39 1.12,0.41 1.12,1.34 1.12,1.45 0,0.72 -0.55,1.05 -1.1,1.05 -0.62,0 -1.55,-0.5 -1.55,-1.7 0,-1.52 1.71,-2.05 2.97,-2.05 1.38,0 2.49,0.8 3.1,1.7 0.98,-1.5 2.58,-1.7 3.36,-1.7 3.14,0 4.9,2.97 4.9,3.87 0,0.35 -0.42,0.35 -0.51,0.35 -0.44,0 -0.49,-0.16 -0.57,-0.38 -0.72,-2.25 -2.64,-2.98 -3.73,-2.98 -0.75,0 -1.77,0.26 -1.77,1.66 0,0.31 0,0.48 0.21,1.32 0.42,1.75 1.09,4.52 1.29,4.96 0.32,0.65 1.15,1.64 2.41,1.64 0.08,0 0.92,0 1.5,-0.39 z\" id=\"path6025\" inkscape:connector-curvature=\"0\" style=\"fill:#000000;stroke-width:0\"/><path d=\"m 650.44,427.28 -0.01,-0.36 -0.01,-0.37 -0.03,-0.38 -0.05,-0.38 -0.02,-0.2 -0.04,-0.19 -0.04,-0.2 -0.04,-0.2 -0.05,-0.19 -0.06,-0.2 -0.06,-0.2 -0.07,-0.21 -0.07,-0.2 -0.09,-0.2 -0.09,-0.2 -0.09,-0.21 -0.11,-0.2 -0.12,-0.21 -0.12,-0.21 -0.13,-0.2 -0.14,-0.21 -0.15,-0.21 -0.17,-0.2 -0.17,-0.21 -0.18,-0.21 -0.19,-0.21 -0.21,-0.21 -0.21,-0.2 c -0.14,-0.14 -0.25,-0.25 -0.25,-0.43 0,-0.25 0.28,-0.48 0.48,-0.48 0.49,0 3.46,2.78 3.46,6.92 0,2.17 -0.85,3.8 -2.44,3.8 -1.16,0 -1.99,-0.91 -1.99,-1.99 0,-1.11 0.8,-2.01 2.02,-2.01 0.84,0 1.39,0.56 1.44,0.56 z\" id=\"path6027\" inkscape:connector-curvature=\"0\" style=\"fill:#000000;stroke-width:0\"/><path d=\"m 665.86,449.86 0,0 0.01,0.01 0,0 0,0.01 0,0 0,0.01 0.01,0 0,0.01 0,0.01 0,0 0.01,0.02 0,0.02 0.01,0.02 0,0.02 0.01,0.02 0.01,0.02 0,0.02 0.01,0.02 0,0.03 0.02,0.04 0.01,0.05 0,0.02 0.01,0.03 0,0.02 0.01,0.02 0,0.02 0.01,0.02 0,0.01 0,0.02 0.01,0.01 0,0 0,0.01 0,0.01 0,0 0,0.01 0,0 0,0.01 0,0 0,0 0,0 0,0.01 c 0,0.18 -0.14,0.5 -0.56,0.5 -0.69,0 -3.58,-0.29 -4.45,-0.36 -0.28,-0.03 -0.77,-0.07 -0.77,-0.8 0,-0.48 0.49,-0.48 0.91,-0.48 1.67,0 1.67,-0.25 1.67,-0.54 0,-0.23 -0.08,-0.45 -0.14,-0.76 l -4.92,-19.72 c -0.17,-0.63 -0.17,-0.69 -0.17,-0.77 0,-0.51 0.42,-1.1 1.18,-1.1 0.94,0 1.4,0.68 1.61,1.45 0.07,0.14 1.57,6.28 1.71,6.76 2.46,-0.25 4.45,-1.04 4.45,-2.86 0,-0.17 0,-0.34 -0.06,-0.68 -0.14,-0.53 -0.14,-0.71 -0.14,-1.1 0,-2.47 2.01,-3.57 3.68,-3.57 3.4,0 4.44,5.29 4.44,5.32 0,0.46 -0.45,0.46 -0.56,0.46 -0.48,0 -0.53,-0.18 -0.7,-0.85 -0.41,-1.5 -1.36,-3.97 -3.07,-3.97 -0.93,0 -1.21,0.88 -1.21,1.82 0,0.59 0,0.65 0.2,1.56 0.05,0.11 0.18,0.7 0.18,1.09 0,3.1 -4.18,3.58 -5.65,3.69 1.02,0.62 2.3,1.78 2.89,2.3 1.78,1.67 3.53,3.31 5.47,3.31 0.42,0 0.87,-0.11 1.16,-0.45 -1.5,-0.25 -1.82,-1.43 -1.82,-1.96 0,-0.76 0.6,-1.28 1.39,-1.28 0.96,0 1.99,0.77 1.99,2.22 0,1.16 -0.83,2.44 -2.68,2.44 -1.98,0 -3.79,-1.42 -5.57,-3.06 -1.47,-1.4 -2.61,-2.47 -4.05,-3.07 z\" id=\"path6029\" inkscape:connector-curvature=\"0\" style=\"fill:#000000;stroke-width:0\"/><path d=\"m 692.56,431.1 0.01,0.03 0.01,0.04 0.01,0.03 0.01,0.03 0.01,0.03 0,0.03 0.01,0.03 0.01,0.02 0,0.03 0.01,0.02 0,0.02 0.01,0.03 0,0.02 0,0.02 0.01,0.02 0,0.01 0,0.02 0,0.02 0,0.01 0.01,0.01 0,0.02 0,0.01 0,0.01 0,0.01 0,0.01 0,0 0,0.01 0,0.01 0,0 0,0.01 0,0 0,0 c 0,0.55 -0.45,0.88 -0.92,0.88 -1,0 -1.2,-0.88 -1.37,-1.55 l -0.52,-2.06 -0.78,-3.11 c -0.1,-0.33 -0.22,-0.86 -0.25,-1 -0.02,-0.1 -1.36,-2.44 -3.49,-2.44 -1.14,0 -2.04,0.55 -2.04,2.14 0,1.36 0.75,3.19 1.47,4.98 0.12,0.3 0.31,0.69 0.31,1.11 0,1.22 -1.17,2.21 -2.72,2.21 -2.63,0 -4.02,-3.19 -4.02,-3.86 0,-0.36 0.41,-0.36 0.54,-0.36 0.42,0 0.43,0.12 0.56,0.5 0.53,1.72 1.7,2.86 2.81,2.86 0.48,0 0.75,-0.27 0.75,-0.94 0,-0.5 -0.14,-0.84 -0.33,-1.3 -1.22,-2.97 -1.44,-3.86 -1.44,-4.86 0,-2.76 2.32,-3.34 3.99,-3.34 1.42,0 2.47,0.7 3.09,1.23 -0.36,-1.4 -0.62,-2.5 -1.79,-3.68 -0.58,-0.58 -1.75,-1.53 -3.29,-1.53 -0.45,0 -1.37,0.07 -1.95,0.6 1.13,0.27 1.25,1.24 1.25,1.49 0,0.73 -0.58,1.03 -1.09,1.03 -0.72,0 -1.58,-0.61 -1.58,-1.75 0,-1.25 1.28,-2.22 3.37,-2.22 2.83,0 6.21,1.89 7,5.08 z\" id=\"path6031\" inkscape:connector-curvature=\"0\" style=\"fill:#000000;stroke-width:0\"/><path d=\"m 700.82,452.86 -0.02,0 -0.03,0 -0.02,0 -0.03,0 -0.03,0 -0.02,0 -0.03,-0.01 -0.03,0 -0.03,0 -0.03,0 -0.02,-0.01 -0.03,0 -0.03,-0.01 -0.03,-0.01 -0.02,0 -0.03,-0.01 -0.02,-0.01 -0.03,-0.02 -0.02,-0.01 -0.03,-0.01 -0.02,-0.02 -0.02,-0.02 -0.02,-0.02 0,-0.01 -0.01,-0.01 -0.01,-0.01 -0.01,-0.01 0,-0.01 -0.01,-0.02 -0.01,-0.01 0,-0.01 -0.01,-0.02 0,-0.01 -0.01,-0.02 0,-0.01 0,-0.02 -0.01,-0.02 0,-0.02 0,-0.01 0,-0.02 0,-0.02 c 0,-0.17 0.11,-0.28 0.31,-0.53 3,-2.75 6.34,-7.46 6.34,-16.44 0,-7.28 -2.26,-12.8 -6.03,-16.2 -0.57,-0.6 -0.62,-0.63 -0.62,-0.82 0,-0.17 0.11,-0.4 0.45,-0.4 0.42,0 3.74,2.29 6.03,6.65 1.53,2.89 2.55,6.66 2.55,10.74 0,4.9 -1.47,12.53 -8.36,17.42 z\" id=\"path6033\" inkscape:connector-curvature=\"0\" style=\"fill:#000000;stroke-width:0\"/></g>    </g>\n",
       "    <rect height=\"136.94736\" id=\"rect6100\" style=\"opacity:1;fill:#3c6e03;fill-opacity:0.43396229;stroke:#000000;stroke-width:3.40899992;stroke-miterlimit:4;stroke-dasharray:none;stroke-dashoffset:0;stroke-opacity:1\" width=\"210.57889\" x=\"527.88422\" y=\"83.572296\"/>\n",
       "    <g id=\"g7672\" style=\"opacity:1;stroke:none;stroke-opacity:0.7295598\" transform=\"translate(-33.336648,-53.326703)\">\n",
       "      <circle cx=\"666.23688\" cy=\"203.59898\" id=\"path7585\" r=\"21.236879\" style=\"opacity:1;fill:url(#radialGradient7609);fill-opacity:1;fill-rule:nonzero;stroke:none;stroke-width:3.40900016;stroke-miterlimit:4;stroke-dasharray:none;stroke-dashoffset:0;stroke-opacity:0.7295598\"/>\n",
       "      <circle cx=\"665.53198\" cy=\"203.30418\" id=\"path7611\" r=\"37.500004\" style=\"opacity:1;fill:url(#radialGradient7668);fill-opacity:1;fill-rule:nonzero;stroke:none;stroke-width:3.40899992;stroke-miterlimit:4;stroke-dasharray:none;stroke-dashoffset:0;stroke-opacity:0.7295598\"/>\n",
       "    </g>\n",
       "    <g id=\"g7676-2\" style=\"stroke:#626262;stroke-opacity:0.7295598\" transform=\"translate(206.42054,50.30513)\">\n",
       "      <path d=\"m 554.48996,47.862068 208.22076,0\" id=\"path6102-0-0\" inkscape:connector-curvature=\"0\" inkscape:tile-cx=\"477.07272\" inkscape:tile-cy=\"16.667566\" inkscape:tile-h=\"0.99999982\" inkscape:tile-w=\"208.22076\" inkscape:tile-x0=\"372.96234\" inkscape:tile-y0=\"16.167566\" style=\"opacity:1;fill:none;fill-rule:evenodd;stroke:#626262;stroke-width:0.99999982px;stroke-linecap:butt;stroke-linejoin:miter;stroke-opacity:0.7295598\"/>\n",
       "      <path d=\"m 571,34.362068 0,135.000012\" id=\"use7387-2\" inkscape:connector-curvature=\"0\" inkscape:tile-x0=\"372.97238\" inkscape:tile-y0=\"3.167566\" style=\"opacity:1;fill:none;fill-rule:evenodd;stroke:#626262;stroke-width:1px;stroke-linecap:butt;stroke-linejoin:miter;stroke-opacity:0.7295598\"/>\n",
       "      <path d=\"m 587,34.362068 0,135.000012\" id=\"use7389-3\" inkscape:connector-curvature=\"0\" inkscape:tile-x0=\"372.97238\" inkscape:tile-y0=\"3.167566\" style=\"opacity:1;fill:none;fill-rule:evenodd;stroke:#626262;stroke-width:1px;stroke-linecap:butt;stroke-linejoin:miter;stroke-opacity:0.7295598\"/>\n",
       "      <path d=\"m 603,34.362068 0,135.000012\" id=\"use7391-7\" inkscape:connector-curvature=\"0\" inkscape:tile-x0=\"372.97238\" inkscape:tile-y0=\"3.167566\" style=\"opacity:1;fill:none;fill-rule:evenodd;stroke:#626262;stroke-width:1px;stroke-linecap:butt;stroke-linejoin:miter;stroke-opacity:0.7295598\"/>\n",
       "      <path d=\"m 619,34.362068 0,135.000012\" id=\"use7393-5\" inkscape:connector-curvature=\"0\" inkscape:tile-x0=\"372.97238\" inkscape:tile-y0=\"3.167566\" style=\"opacity:1;fill:none;fill-rule:evenodd;stroke:#626262;stroke-width:1px;stroke-linecap:butt;stroke-linejoin:miter;stroke-opacity:0.7295598\"/>\n",
       "      <path d=\"m 635,34.362068 0,135.000012\" id=\"use7395-9\" inkscape:connector-curvature=\"0\" inkscape:tile-x0=\"372.97238\" inkscape:tile-y0=\"3.167566\" style=\"opacity:1;fill:none;fill-rule:evenodd;stroke:#626262;stroke-width:1px;stroke-linecap:butt;stroke-linejoin:miter;stroke-opacity:0.7295598\"/>\n",
       "      <path d=\"m 651,34.362068 0,135.000012\" id=\"use7397-2\" inkscape:connector-curvature=\"0\" inkscape:tile-x0=\"372.97238\" inkscape:tile-y0=\"3.167566\" style=\"opacity:1;fill:none;fill-rule:evenodd;stroke:#626262;stroke-width:1px;stroke-linecap:butt;stroke-linejoin:miter;stroke-opacity:0.7295598\"/>\n",
       "      <path d=\"m 667,34.362068 0,135.000012\" id=\"use7399-2\" inkscape:connector-curvature=\"0\" inkscape:tile-x0=\"372.97238\" inkscape:tile-y0=\"3.167566\" style=\"opacity:1;fill:none;fill-rule:evenodd;stroke:#626262;stroke-width:1px;stroke-linecap:butt;stroke-linejoin:miter;stroke-opacity:0.7295598\"/>\n",
       "      <path d=\"m 683,34.362068 0,135.000012\" id=\"use7401-8\" inkscape:connector-curvature=\"0\" inkscape:tile-x0=\"372.97238\" inkscape:tile-y0=\"3.167566\" style=\"opacity:1;fill:none;fill-rule:evenodd;stroke:#626262;stroke-width:1px;stroke-linecap:butt;stroke-linejoin:miter;stroke-opacity:0.7295598\"/>\n",
       "      <path d=\"m 699,34.362068 0,135.000012\" id=\"use7403-9\" inkscape:connector-curvature=\"0\" inkscape:tile-x0=\"372.97238\" inkscape:tile-y0=\"3.167566\" style=\"opacity:1;fill:none;fill-rule:evenodd;stroke:#626262;stroke-width:1px;stroke-linecap:butt;stroke-linejoin:miter;stroke-opacity:0.7295598\"/>\n",
       "      <path d=\"m 715,34.362068 0,135.000012\" id=\"use7405-7\" inkscape:connector-curvature=\"0\" inkscape:tile-x0=\"372.97238\" inkscape:tile-y0=\"3.167566\" style=\"opacity:1;fill:none;fill-rule:evenodd;stroke:#626262;stroke-width:1px;stroke-linecap:butt;stroke-linejoin:miter;stroke-opacity:0.7295598\"/>\n",
       "      <path d=\"m 731,34.362068 0,135.000012\" id=\"use7407-3\" inkscape:connector-curvature=\"0\" inkscape:tile-x0=\"372.97238\" inkscape:tile-y0=\"3.167566\" style=\"opacity:1;fill:none;fill-rule:evenodd;stroke:#626262;stroke-width:1px;stroke-linecap:butt;stroke-linejoin:miter;stroke-opacity:0.7295598\"/>\n",
       "      <path d=\"m 747,34.362068 0,135.000012\" id=\"use7409-6\" inkscape:connector-curvature=\"0\" inkscape:tile-x0=\"372.97238\" inkscape:tile-y0=\"3.167566\" style=\"opacity:1;fill:none;fill-rule:evenodd;stroke:#626262;stroke-width:1px;stroke-linecap:butt;stroke-linejoin:miter;stroke-opacity:0.7295598\"/>\n",
       "      <use height=\"100%\" id=\"use7541-1\" inkscape:tiled-clone-of=\"#path6102-0-0\" style=\"opacity:1;stroke:#626262;stroke-opacity:0.7295598\" width=\"100%\" x=\"0\" xlink:href=\"#path6102-0-0\" y=\"0\"/>\n",
       "      <use height=\"100%\" id=\"use7543-2\" inkscape:tiled-clone-of=\"#path6102-0-0\" style=\"opacity:1;stroke:#626262;stroke-opacity:0.7295598\" transform=\"translate(0,14.999997)\" width=\"100%\" x=\"0\" xlink:href=\"#path6102-0-0\" y=\"0\"/>\n",
       "      <use height=\"100%\" id=\"use7545-9\" inkscape:tiled-clone-of=\"#path6102-0-0\" style=\"opacity:1;stroke:#626262;stroke-opacity:0.7295598\" transform=\"translate(0,29.999995)\" width=\"100%\" x=\"0\" xlink:href=\"#path6102-0-0\" y=\"0\"/>\n",
       "      <use height=\"100%\" id=\"use7547-3\" inkscape:tiled-clone-of=\"#path6102-0-0\" style=\"opacity:1;stroke:#626262;stroke-opacity:0.7295598\" transform=\"translate(0,44.999992)\" width=\"100%\" x=\"0\" xlink:href=\"#path6102-0-0\" y=\"0\"/>\n",
       "      <use height=\"100%\" id=\"use7549-1\" inkscape:tiled-clone-of=\"#path6102-0-0\" style=\"opacity:1;stroke:#626262;stroke-opacity:0.7295598\" transform=\"translate(0,59.999989)\" width=\"100%\" x=\"0\" xlink:href=\"#path6102-0-0\" y=\"0\"/>\n",
       "      <use height=\"100%\" id=\"use7551-9\" inkscape:tiled-clone-of=\"#path6102-0-0\" style=\"opacity:1;stroke:#626262;stroke-opacity:0.7295598\" transform=\"translate(0,74.999987)\" width=\"100%\" x=\"0\" xlink:href=\"#path6102-0-0\" y=\"0\"/>\n",
       "      <use height=\"100%\" id=\"use7553-4\" inkscape:tiled-clone-of=\"#path6102-0-0\" style=\"opacity:1;stroke:#626262;stroke-opacity:0.7295598\" transform=\"translate(0,89.999984)\" width=\"100%\" x=\"0\" xlink:href=\"#path6102-0-0\" y=\"0\"/>\n",
       "      <use height=\"100%\" id=\"use7555-7\" inkscape:tiled-clone-of=\"#path6102-0-0\" style=\"opacity:1;stroke:#626262;stroke-opacity:0.7295598\" transform=\"translate(0,104.99998)\" width=\"100%\" x=\"0\" xlink:href=\"#path6102-0-0\" y=\"0\"/>\n",
       "    </g>\n",
       "    <rect height=\"136.94736\" id=\"rect6100-8\" style=\"opacity:1;fill:#3c6e03;fill-opacity:0.43396229;stroke:#000000;stroke-width:3.40899992;stroke-miterlimit:4;stroke-dasharray:none;stroke-dashoffset:0;stroke-opacity:1\" width=\"210.57889\" x=\"759.64142\" y=\"83.204132\"/>\n",
       "    <g id=\"g7672-4\" style=\"opacity:1;fill:#cf0000;fill-opacity:0.96176471;stroke:none;stroke-opacity:1\" transform=\"matrix(0.47031802,0,0,0.47031802,552.10925,55.54959)\">\n",
       "      <circle cx=\"666.23688\" cy=\"203.59898\" id=\"path7585-5\" r=\"21.236879\" style=\"opacity:1;fill:#cf0000;fill-opacity:0.96176471;fill-rule:nonzero;stroke:none;stroke-width:3.40900016;stroke-miterlimit:4;stroke-dasharray:none;stroke-dashoffset:0;stroke-opacity:1\"/>\n",
       "      <circle cx=\"665.53198\" cy=\"203.30418\" id=\"path7611-0\" r=\"37.500004\" style=\"opacity:1;fill:#cf0000;fill-opacity:0.96176471;fill-rule:nonzero;stroke:none;stroke-width:3.40899992;stroke-miterlimit:4;stroke-dasharray:none;stroke-dashoffset:0;stroke-opacity:1\"/>\n",
       "    </g>\n",
       "    <g id=\"g8543\" transform=\"matrix(0.49999992,0,0,0.49999986,429.67501,150.73347)\">\n",
       "      <g font-size-adjust=\"none\" font-stretch=\"normal\" font-style=\"normal\" font-variant=\"normal\" font-weight=\"normal\" id=\"g8545\" letter-spacing=\"normal\" stroke-miterlimit=\"10.433\" style=\"font-style:normal;font-variant:normal;font-weight:normal;font-stretch:normal;letter-spacing:normal;word-spacing:normal;text-anchor:start;fill:none;fill-opacity:1;fill-rule:evenodd;stroke:#000000;stroke-width:2.00000048;stroke-linecap:butt;stroke-linejoin:miter;stroke-miterlimit:10.43299961;stroke-dasharray:none;stroke-dashoffset:0;stroke-opacity:1\" transform=\"matrix(0.87941253,0,0,-0.87941253,-153.89719,548.63288)\" word-spacing=\"normal\" xml:space=\"preserve\"><path d=\"m 477.54,440.98 -0.04,0.06 -0.03,0.06 -0.03,0.05 -0.02,0.05 -0.03,0.05 -0.03,0.05 -0.03,0.05 -0.02,0.04 -0.03,0.04 -0.03,0.04 -0.02,0.04 -0.03,0.03 -0.03,0.04 -0.03,0.03 -0.03,0.03 -0.03,0.03 -0.03,0.02 -0.04,0.03 -0.04,0.02 -0.03,0.02 -0.05,0.02 -0.04,0.01 -0.05,0.02 -0.04,0.01 -0.06,0.01 -0.05,0.01 -0.06,0.01 -0.06,0.01 -0.07,0 -0.07,0.01 -0.07,0 -0.04,0 -0.04,0 c -0.85,0 -0.94,-0.25 -1.28,-0.89 l -0.32,-4.09 13.41,-26.91 -26.86,0 13.45,26.91 0.32,4.09 -16.85,-33.78 c -0.25,-0.45 -0.25,-0.55 -0.25,-0.59 0,-0.41 0.3,-0.41 1.1,-0.41 l 34.58,0 c 0.79,0 1.09,0 1.09,0.41 0,0.04 0,0.14 -0.25,0.59 z\" id=\"path8547\" inkscape:connector-curvature=\"0\" style=\"fill:#000000;stroke-width:0\"/><path d=\"m 513.68,421.25 0.03,0.13 0.04,0.15 0.04,0.16 0.04,0.18 0.06,0.19 0.06,0.21 0.06,0.22 0.07,0.22 0.08,0.23 0.09,0.24 0.1,0.25 0.1,0.24 0.11,0.25 0.12,0.25 0.13,0.25 0.14,0.25 0.14,0.24 0.16,0.24 0.17,0.23 0.18,0.22 0.18,0.22 0.2,0.2 0.21,0.19 0.22,0.18 0.23,0.16 0.25,0.14 0.12,0.07 0.13,0.06 0.14,0.05 0.13,0.05 0.14,0.05 0.14,0.04 0.15,0.03 0.15,0.03 0.15,0.02 0.16,0.02 0.15,0.01 0.17,0 c 0.25,0 1.43,0 2.48,-0.64 -1.39,-0.25 -2.39,-1.5 -2.39,-2.69 0,-0.79 0.55,-1.75 1.89,-1.75 1.1,0 2.69,0.89 2.69,2.89 0,2.6 -2.94,3.28 -4.63,3.28 -2.89,0 -4.64,-2.64 -5.23,-3.78 -1.25,3.28 -3.94,3.78 -5.38,3.78 -5.18,0 -8.03,-6.42 -8.03,-7.67 0,-0.5 0.5,-0.5 0.61,-0.5 0.39,0 0.55,0.11 0.64,0.55 1.69,5.28 4.99,6.53 6.68,6.53 0.95,0 2.68,-0.44 2.68,-3.33 0,-1.54 -0.84,-4.89 -2.68,-11.86 -0.8,-3.09 -2.54,-5.18 -4.74,-5.18 -0.3,0 -1.44,0 -2.48,0.65 1.25,0.24 2.34,1.28 2.34,2.69 0,1.34 -1.09,1.73 -1.84,1.73 -1.5,0 -2.75,-1.29 -2.75,-2.89 0,-2.28 2.5,-3.28 4.68,-3.28 3.3,0 5.08,3.49 5.24,3.78 0.59,-1.84 2.39,-3.78 5.37,-3.78 5.14,0 7.99,6.42 7.99,7.67 0,0.5 -0.46,0.5 -0.61,0.5 -0.44,0 -0.55,-0.2 -0.64,-0.54 -1.64,-5.33 -5.03,-6.53 -6.63,-6.53 -1.95,0 -2.75,1.59 -2.75,3.29 0,1.1 0.3,2.19 0.86,4.38 z\" id=\"path8549\" inkscape:connector-curvature=\"0\" style=\"fill:#000000;stroke-width:0\"/></g>    </g>\n",
       "    <path d=\"m 561.66335,227.03538 15,0\" id=\"path8695\" inkscape:connector-curvature=\"0\" style=\"fill:none;fill-rule:evenodd;stroke:#000000;stroke-width:1px;stroke-linecap:butt;stroke-linejoin:miter;stroke-opacity:1;marker-start:url(#DiamondSend);marker-end:url(#DiamondSstart)\"/>\n",
       "    <path d=\"m 795.56797,227.81432 15.00001,0\" id=\"path8695-6\" inkscape:connector-curvature=\"0\" style=\"fill:none;fill-rule:evenodd;stroke:#000000;stroke-width:1px;stroke-linecap:butt;stroke-linejoin:miter;stroke-opacity:1;marker-start:url(#DiamondSend-3);marker-end:url(#DiamondSstart-1)\"/>\n",
       "    <g id=\"g9757\" transform=\"matrix(0.29999999,0,0,0.29999993,866.62497,181.31732)\">\n",
       "      <g font-size-adjust=\"none\" font-stretch=\"normal\" font-style=\"normal\" font-variant=\"normal\" font-weight=\"normal\" id=\"content\" letter-spacing=\"normal\" stroke-miterlimit=\"10.433\" style=\"font-style:normal;font-variant:normal;font-weight:normal;font-stretch:normal;letter-spacing:normal;word-spacing:normal;text-anchor:start;fill:none;fill-opacity:1;fill-rule:evenodd;stroke:#000000;stroke-width:3.33333373;stroke-linecap:butt;stroke-linejoin:miter;stroke-miterlimit:10.43299961;stroke-dasharray:none;stroke-dashoffset:0;stroke-opacity:1\" transform=\"matrix(0.87941253,0,0,-0.87941253,-153.89719,548.63288)\" word-spacing=\"normal\" xml:space=\"preserve\"><path d=\"m 476.61,438.11 4.83,0 c 3.75,0 4.14,-0.8 4.14,-2.23 0,-0.36 0,-0.96 -0.34,-2.44 -0.11,-0.25 -0.16,-0.46 -0.16,-0.56 0,-0.4 0.3,-0.6 0.6,-0.6 0.5,0 0.5,0.16 0.75,1.05 l 2.75,10.81 c 0.14,0.55 0.14,0.66 0.14,0.8 0,0.09 -0.1,0.54 -0.6,0.54 -0.5,0 -0.54,-0.25 -0.75,-1.04 -1.04,-3.88 -2.18,-4.78 -6.42,-4.78 l -4.53,0 3.19,12.65 c 0.43,1.75 0.5,1.94 2.68,1.94 l 6.58,0 c 6.13,0 7.27,-1.64 7.27,-5.47 0,-1.16 0,-1.34 -0.14,-2.7 -0.11,-0.64 -0.11,-0.74 -0.11,-0.89 0,-0.25 0.15,-0.6 0.61,-0.6 0.54,0 0.59,0.3 0.69,1.25 l 1,8.61 c 0.15,1.35 -0.1,1.35 -1.35,1.35 l -24.4,0 c -1,0 -1.5,0 -1.5,-1 0,-0.55 0.45,-0.55 1.39,-0.55 1.84,0 3.23,0 3.23,-0.89 0,-0.2 0,-0.3 -0.25,-1.2 l -6.56,-26.35 c -0.5,-1.95 -0.61,-2.34 -4.55,-2.34 -0.84,0 -1.39,0 -1.39,-0.95 0,-0.6 0.59,-0.6 0.75,-0.6 1.44,0 5.13,0.16 6.58,0.16 1.64,0 5.78,-0.16 7.42,-0.16 0.45,0 1.05,0 1.05,0.96 0,0.39 -0.3,0.48 -0.3,0.54 -0.16,0.05 -0.25,0.05 -1.39,0.05 -1.11,0 -1.36,0 -2.59,0.09 -1.46,0.16 -1.6,0.36 -1.6,1 0,0.1 0,0.41 0.19,1.14 z\" id=\"path9760\" inkscape:connector-curvature=\"0\" style=\"fill:#000000;stroke-width:0\"/><path d=\"m 532.66,456.55 0,0.01 0,0.02 0,0.02 -0.01,0.01 0,0.02 0,0.02 -0.01,0.02 0,0.02 -0.01,0.02 -0.01,0.02 -0.01,0.02 -0.01,0.02 -0.01,0.02 -0.01,0.03 -0.01,0.02 -0.02,0.02 -0.02,0.02 -0.01,0.01 -0.02,0.02 -0.02,0.02 -0.02,0.02 -0.03,0.01 -0.02,0.02 -0.03,0.01 -0.02,0.01 -0.03,0.01 -0.02,0.01 -0.01,0 -0.02,0.01 -0.02,0 -0.01,0.01 -0.02,0 -0.02,0 -0.02,0 -0.02,0 -0.02,0.01 -0.02,0 -0.02,0 c -0.25,0 -0.31,-0.05 -0.9,-0.75 l -2.39,-2.85 c -1.3,2.35 -3.89,3.6 -7.13,3.6 -6.33,0 -12.3,-5.74 -12.3,-11.77 0,-4.03 2.64,-6.33 5.18,-7.06 l 5.33,-1.41 c 1.84,-0.43 4.59,-1.19 4.59,-5.28 0,-4.48 -4.09,-9.15 -8.97,-9.15 -3.19,0 -8.72,1.09 -8.72,7.26 0,1.2 0.25,2.39 0.3,2.69 0.04,0.2 0.09,0.25 0.09,0.36 0,0.5 -0.34,0.54 -0.59,0.54 -0.25,0 -0.35,-0.04 -0.5,-0.2 -0.21,-0.2 -2.99,-11.56 -2.99,-11.7 0,-0.3 0.25,-0.5 0.55,-0.5 0.25,0 0.3,0.05 0.89,0.75 l 2.45,2.83 c 2.14,-2.89 5.52,-3.58 8.41,-3.58 6.78,0 12.66,6.62 12.66,12.79 0,3.44 -1.69,5.15 -2.44,5.83 -1.14,1.16 -1.89,1.35 -6.33,2.5 -1.09,0.3 -2.89,0.8 -3.34,0.89 -1.35,0.46 -3.03,1.89 -3.03,4.54 0,4.04 3.98,8.28 8.72,8.28 4.13,0 7.17,-2.14 7.17,-7.74 0,-1.59 -0.21,-2.48 -0.21,-2.78 0,-0.05 0,-0.5 0.61,-0.5 0.5,0 0.55,0.16 0.74,1 z\" id=\"path9762\" inkscape:connector-curvature=\"0\" style=\"fill:#000000;stroke-width:0\"/><polyline id=\"polyline9764\" points=\"462,400 534.48,400 534.48,402.04 462,402.04 \" style=\"fill:#000000;fill-rule:nonzero;stroke-width:0\"/><path d=\"m 491.61,357.96 5.28,5.13 c 7.77,6.87 10.77,9.56 10.77,14.55 0,5.68 -4.49,9.67 -10.57,9.67 -5.64,0 -9.32,-4.6 -9.32,-9.03 0,-2.78 2.5,-2.78 2.64,-2.78 0.86,0 2.59,0.59 2.59,2.64 0,1.29 -0.89,2.59 -2.64,2.59 -0.39,0 -0.5,0 -0.64,-0.05 1.14,3.24 3.83,5.08 6.72,5.08 4.53,0 6.68,-4.05 6.68,-8.12 0,-3.99 -2.5,-7.93 -5.23,-11.02 l -9.56,-10.66 c -0.56,-0.54 -0.56,-0.64 -0.56,-1.84 l 18.48,0 1.41,8.67 -1.25,0 c -0.25,-1.5 -0.6,-3.68 -1.1,-4.43 -0.36,-0.4 -3.64,-0.4 -4.73,-0.4 z\" id=\"path9766\" inkscape:connector-curvature=\"0\" style=\"fill:#000000;stroke-width:0\"/><path d=\"m 587.91,404.5 0.14,0 0.15,0 0.14,0 0.07,0.01 0.08,0 0.07,0.01 0.07,0.01 0.07,0.01 0.07,0.01 0.07,0.01 0.07,0.02 0.06,0.02 0.06,0.02 0.06,0.02 0.06,0.03 0.06,0.03 0.05,0.04 0.05,0.03 0.05,0.05 0.04,0.04 0.04,0.05 0.02,0.03 0.02,0.03 0.01,0.02 0.02,0.03 0.01,0.03 0.02,0.04 0.01,0.03 0.01,0.04 0.01,0.03 0.01,0.04 0.01,0.04 0,0.04 0.01,0.04 0,0.04 0,0.04 0,0.05 c 0,1 -0.95,1 -1.64,1 l -29.84,0 c -0.71,0 -1.64,0 -1.64,-1 0,-0.98 0.93,-0.98 1.68,-0.98 z\" id=\"path9768\" inkscape:connector-curvature=\"0\" style=\"fill:#000000;stroke-width:0\"/><path d=\"m 587.96,394.82 0.07,0 0.06,0 0.14,0.01 0.14,0 0.07,0 0.07,0.01 0.07,0.01 0.07,0 0.06,0.01 0.07,0.02 0.07,0.01 0.06,0.02 0.07,0.02 0.06,0.02 0.06,0.02 0.06,0.03 0.05,0.03 0.05,0.04 0.05,0.04 0.05,0.04 0.04,0.05 0.02,0.02 0.02,0.03 0.02,0.02 0.02,0.03 0.01,0.03 0.02,0.03 0.01,0.03 0.02,0.03 0.01,0.04 0.01,0.03 0.01,0.04 0.01,0.04 0.01,0.04 0,0.04 0.01,0.04 0,0.04 0,0.05 0,0.04 c 0,1 -0.95,1 -1.69,1 l -29.75,0 c -0.75,0 -1.68,0 -1.68,-1 0,-1 0.93,-1 1.64,-1 z\" id=\"path9770\" inkscape:connector-curvature=\"0\" style=\"fill:#000000;stroke-width:0\"/><path d=\"m 661.92,453.81 0,0.06 0,0.05 0,0.05 0,0.05 0,0.05 0,0.05 0,0.05 0,0.04 0,0.04 0,0.04 0,0.04 -0.01,0.04 0,0.04 0,0.04 0,0.03 -0.01,0.04 0,0.06 -0.01,0.06 -0.01,0.05 -0.02,0.05 -0.01,0.05 -0.02,0.04 -0.03,0.04 -0.02,0.04 -0.03,0.03 -0.03,0.03 -0.04,0.02 -0.04,0.02 -0.04,0.02 -0.02,0.01 -0.03,0.01 -0.02,0 -0.03,0.01 -0.03,0.01 -0.03,0 -0.03,0.01 -0.03,0 -0.04,0.01 -0.03,0 -0.04,0 -0.03,0.01 -0.04,0 -0.04,0 -0.04,0 -0.05,0.01 -0.04,0 -0.05,0 -0.05,0 -0.05,0 -0.05,0 -0.05,0 c -3.09,-3.19 -7.47,-3.19 -9.06,-3.19 l 0,-1.54 c 1,0 3.94,0 6.51,1.29 l 0,-25.81 c 0,-1.8 -0.14,-2.39 -4.62,-2.39 l -1.59,0 0,-1.55 c 1.75,0.16 6.07,0.16 8.06,0.16 2,0 6.33,0 8.08,-0.16 l 0,1.55 -1.6,0 c -4.48,0 -4.64,0.55 -4.64,2.39 z\" id=\"path9772\" inkscape:connector-curvature=\"0\" style=\"fill:#000000;stroke-width:0\"/><polyline id=\"polyline9774\" points=\"612,400 706.92,400 706.92,402.04 612,402.04 \" style=\"fill:#000000;fill-rule:nonzero;stroke-width:0\"/><path d=\"m 618.57,357.96 5.28,5.13 c 7.76,6.87 10.76,9.56 10.76,14.55 0,5.68 -4.48,9.67 -10.56,9.67 -5.64,0 -9.33,-4.6 -9.33,-9.03 0,-2.78 2.5,-2.78 2.64,-2.78 0.86,0 2.6,0.59 2.6,2.64 0,1.29 -0.89,2.59 -2.64,2.59 -0.39,0 -0.5,0 -0.64,-0.05 1.14,3.24 3.82,5.08 6.72,5.08 4.53,0 6.68,-4.05 6.68,-8.12 0,-3.99 -2.5,-7.93 -5.23,-11.02 l -9.57,-10.66 c -0.56,-0.54 -0.56,-0.64 -0.56,-1.84 l 18.49,0 1.4,8.67 -1.25,0 c -0.25,-1.5 -0.59,-3.68 -1.09,-4.43 -0.36,-0.4 -3.64,-0.4 -4.74,-0.4 z\" id=\"path9776\" inkscape:connector-curvature=\"0\" style=\"fill:#000000;stroke-width:0\"/><path d=\"m 659.21,388.9 -0.03,0.06 -0.03,0.06 -0.03,0.05 -0.03,0.05 -0.03,0.05 -0.02,0.05 -0.03,0.05 -0.03,0.04 -0.02,0.04 -0.03,0.04 -0.03,0.04 -0.02,0.04 -0.03,0.03 -0.03,0.03 -0.03,0.03 -0.03,0.03 -0.04,0.02 -0.03,0.03 -0.04,0.02 -0.04,0.02 -0.04,0.02 -0.04,0.02 -0.05,0.01 -0.05,0.01 -0.05,0.02 -0.06,0.01 -0.06,0 -0.06,0.01 -0.06,0.01 -0.07,0 -0.08,0 -0.08,0 c -0.84,0 -0.93,-0.25 -1.28,-0.89 l -0.31,-4.09 13.41,-26.91 -26.86,0 13.45,26.91 0.31,4.09 -16.84,-33.78 c -0.25,-0.45 -0.25,-0.55 -0.25,-0.59 0,-0.41 0.3,-0.41 1.09,-0.41 l 34.58,0 c 0.8,0 1.09,0 1.09,0.41 0,0.04 0,0.14 -0.25,0.59 z\" id=\"path9778\" inkscape:connector-curvature=\"0\" style=\"fill:#000000;stroke-width:0\"/><path d=\"m 695.35,369.17 0.04,0.13 0.03,0.15 0.04,0.16 0.05,0.18 0.05,0.2 0.06,0.2 0.07,0.22 0.07,0.22 0.08,0.24 0.09,0.24 0.09,0.24 0.11,0.25 0.11,0.25 0.12,0.25 0.13,0.25 0.13,0.24 0.15,0.24 0.16,0.24 0.16,0.23 0.18,0.23 0.19,0.21 0.2,0.2 0.21,0.19 0.22,0.18 0.23,0.16 0.24,0.14 0.13,0.07 0.13,0.06 0.13,0.05 0.14,0.05 0.14,0.05 0.14,0.04 0.15,0.03 0.14,0.03 0.16,0.02 0.15,0.02 0.16,0.01 0.16,0 c 0.25,0 1.44,0 2.49,-0.64 -1.39,-0.25 -2.39,-1.5 -2.39,-2.69 0,-0.79 0.54,-1.75 1.89,-1.75 1.09,0 2.69,0.9 2.69,2.9 0,2.59 -2.94,3.28 -4.63,3.28 -2.89,0 -4.64,-2.64 -5.24,-3.78 -1.25,3.28 -3.93,3.78 -5.37,3.78 -5.19,0 -8.03,-6.43 -8.03,-7.68 0,-0.5 0.5,-0.5 0.61,-0.5 0.39,0 0.54,0.11 0.64,0.55 1.69,5.28 4.98,6.53 6.67,6.53 0.95,0 2.69,-0.43 2.69,-3.33 0,-1.54 -0.84,-4.89 -2.69,-11.85 -0.8,-3.1 -2.53,-5.19 -4.73,-5.19 -0.3,0 -1.44,0 -2.49,0.65 1.25,0.24 2.35,1.29 2.35,2.69 0,1.35 -1.1,1.74 -1.85,1.74 -1.5,0 -2.75,-1.3 -2.75,-2.89 0,-2.29 2.5,-3.29 4.69,-3.29 3.3,0 5.08,3.49 5.23,3.79 0.6,-1.85 2.4,-3.79 5.38,-3.79 5.14,0 7.98,6.43 7.98,7.68 0,0.5 -0.45,0.5 -0.61,0.5 -0.43,0 -0.54,-0.21 -0.64,-0.55 -1.64,-5.33 -5.03,-6.53 -6.62,-6.53 -1.96,0 -2.75,1.59 -2.75,3.29 0,1.1 0.29,2.19 0.86,4.38 z\" id=\"path9780\" inkscape:connector-curvature=\"0\" style=\"fill:#000000;stroke-width:0\"/></g>    </g>\n",
       "    <g id=\"g10084\" transform=\"matrix(0.29999995,0,0,0.29999994,716.95984,188.25636)\">\n",
       "      <g font-size-adjust=\"none\" font-stretch=\"normal\" font-style=\"normal\" font-variant=\"normal\" font-weight=\"normal\" id=\"g10086\" letter-spacing=\"normal\" stroke-miterlimit=\"10.433\" style=\"font-style:normal;font-variant:normal;font-weight:normal;font-stretch:normal;letter-spacing:normal;word-spacing:normal;text-anchor:start;fill:none;fill-opacity:1;fill-rule:evenodd;stroke:#000000;stroke-width:3.33333397;stroke-linecap:butt;stroke-linejoin:miter;stroke-miterlimit:10.43299961;stroke-dasharray:none;stroke-dashoffset:0;stroke-opacity:1\" transform=\"matrix(0.87941253,0,0,-0.87941253,-153.89719,548.63288)\" word-spacing=\"normal\" xml:space=\"preserve\"><path d=\"m 476.61,438.11 4.83,0 c 3.75,0 4.14,-0.8 4.14,-2.23 0,-0.36 0,-0.96 -0.34,-2.44 -0.11,-0.25 -0.16,-0.46 -0.16,-0.56 0,-0.4 0.3,-0.6 0.6,-0.6 0.5,0 0.5,0.16 0.75,1.05 l 2.75,10.81 c 0.14,0.55 0.14,0.66 0.14,0.8 0,0.09 -0.1,0.54 -0.6,0.54 -0.5,0 -0.54,-0.25 -0.75,-1.04 -1.04,-3.88 -2.18,-4.78 -6.42,-4.78 l -4.53,0 3.19,12.65 c 0.43,1.75 0.5,1.94 2.68,1.94 l 6.58,0 c 6.13,0 7.27,-1.64 7.27,-5.47 0,-1.16 0,-1.34 -0.14,-2.7 -0.11,-0.64 -0.11,-0.74 -0.11,-0.89 0,-0.25 0.15,-0.6 0.61,-0.6 0.54,0 0.59,0.3 0.69,1.25 l 1,8.61 c 0.15,1.35 -0.1,1.35 -1.35,1.35 l -24.4,0 c -1,0 -1.5,0 -1.5,-1 0,-0.55 0.45,-0.55 1.39,-0.55 1.84,0 3.23,0 3.23,-0.89 0,-0.2 0,-0.3 -0.25,-1.2 l -6.56,-26.35 c -0.5,-1.95 -0.61,-2.34 -4.55,-2.34 -0.84,0 -1.39,0 -1.39,-0.95 0,-0.6 0.59,-0.6 0.75,-0.6 1.44,0 5.13,0.16 6.58,0.16 1.64,0 5.78,-0.16 7.42,-0.16 0.45,0 1.05,0 1.05,0.96 0,0.39 -0.3,0.48 -0.3,0.54 -0.16,0.05 -0.25,0.05 -1.39,0.05 -1.11,0 -1.36,0 -2.59,0.09 -1.46,0.16 -1.6,0.36 -1.6,1 0,0.1 0,0.41 0.19,1.14 z\" id=\"path10088\" inkscape:connector-curvature=\"0\" style=\"fill:#000000;stroke-width:0\"/><path d=\"m 532.66,456.55 0,0.01 0,0.02 0,0.02 -0.01,0.01 0,0.02 0,0.02 -0.01,0.02 0,0.02 -0.01,0.02 -0.01,0.02 -0.01,0.02 -0.01,0.02 -0.01,0.02 -0.01,0.03 -0.01,0.02 -0.02,0.02 -0.02,0.02 -0.01,0.01 -0.02,0.02 -0.02,0.02 -0.02,0.02 -0.03,0.01 -0.02,0.02 -0.03,0.01 -0.02,0.01 -0.03,0.01 -0.02,0.01 -0.01,0 -0.02,0.01 -0.02,0 -0.01,0.01 -0.02,0 -0.02,0 -0.02,0 -0.02,0 -0.02,0.01 -0.02,0 -0.02,0 c -0.25,0 -0.31,-0.05 -0.9,-0.75 l -2.39,-2.85 c -1.3,2.35 -3.89,3.6 -7.13,3.6 -6.33,0 -12.3,-5.74 -12.3,-11.77 0,-4.03 2.64,-6.33 5.18,-7.06 l 5.33,-1.41 c 1.84,-0.43 4.59,-1.19 4.59,-5.28 0,-4.48 -4.09,-9.15 -8.97,-9.15 -3.19,0 -8.72,1.09 -8.72,7.26 0,1.2 0.25,2.39 0.3,2.69 0.04,0.2 0.09,0.25 0.09,0.36 0,0.5 -0.34,0.54 -0.59,0.54 -0.25,0 -0.35,-0.04 -0.5,-0.2 -0.21,-0.2 -2.99,-11.56 -2.99,-11.7 0,-0.3 0.25,-0.5 0.55,-0.5 0.25,0 0.3,0.05 0.89,0.75 l 2.45,2.83 c 2.14,-2.89 5.52,-3.58 8.41,-3.58 6.78,0 12.66,6.62 12.66,12.79 0,3.44 -1.69,5.15 -2.44,5.83 -1.14,1.16 -1.89,1.35 -6.33,2.5 -1.09,0.3 -2.89,0.8 -3.34,0.89 -1.35,0.46 -3.03,1.89 -3.03,4.54 0,4.04 3.98,8.28 8.72,8.28 4.13,0 7.17,-2.14 7.17,-7.74 0,-1.59 -0.21,-2.48 -0.21,-2.78 0,-0.05 0,-0.5 0.61,-0.5 0.5,0 0.55,0.16 0.74,1 z\" id=\"path10090\" inkscape:connector-curvature=\"0\" style=\"fill:#000000;stroke-width:0\"/><polyline id=\"polyline10092\" points=\"462,400 534.48,400 534.48,402.04 462,402.04 \" style=\"fill:#000000;fill-rule:nonzero;stroke-width:0\"/><path d=\"m 506.63,382.92 0.1,0.37 0.05,0.18 0.06,0.17 0.06,0.18 0.07,0.17 0.07,0.16 0.08,0.17 0.08,0.15 0.09,0.16 0.1,0.15 0.11,0.14 0.11,0.14 0.12,0.14 0.14,0.13 0.14,0.12 0.15,0.12 0.16,0.12 0.18,0.1 0.18,0.11 0.2,0.09 0.21,0.09 0.23,0.09 0.24,0.07 0.25,0.07 0.26,0.07 0.29,0.05 0.29,0.05 0.32,0.05 0.33,0.03 0.34,0.03 0.18,0.01 0.19,0.01 c 0.25,0 0.84,0.04 0.84,1 0,0.04 0,0.54 -0.64,0.54 -1.66,0 -3.39,-0.15 -5.03,-0.15 -1.7,0 -3.44,0.15 -5.09,0.15 -0.3,0 -0.89,0 -0.89,-1 0,-0.54 0.5,-0.54 0.89,-0.54 2.84,-0.05 3.39,-1.1 3.39,-2.19 0,-0.16 -0.1,-0.91 -0.14,-1.05 l -5.58,-22.17 -11.02,26 c -0.4,0.91 -0.45,0.95 -1.59,0.95 l -6.67,0 c -1,0 -1.46,0 -1.46,-1 0,-0.54 0.46,-0.54 1.39,-0.54 0.25,0 3.39,0 3.39,-0.46 l -6.67,-26.75 c -0.5,-2 -1.34,-3.59 -5.37,-3.73 -0.31,0 -0.86,-0.05 -0.86,-1 0,-0.35 0.25,-0.55 0.65,-0.55 1.6,0 3.33,0.16 4.99,0.16 1.69,0 3.48,-0.16 5.12,-0.16 0.25,0 0.89,0 0.89,1 0,0.5 -0.43,0.55 -0.98,0.55 -2.89,0.09 -3.3,1.19 -3.3,2.19 0,0.34 0.05,0.59 0.21,1.14 l 6.57,26.31 c 0.21,-0.3 0.21,-0.39 0.46,-0.89 l 12.4,-29.35 c 0.35,-0.86 0.49,-0.95 0.94,-0.95 0.55,0 0.55,0.16 0.8,1.05 z\" id=\"path10094\" inkscape:connector-curvature=\"0\" style=\"fill:#000000;stroke-width:0\"/><path d=\"m 517.62,360.32 3.54,0 c 0.66,0 1.11,0 1.11,0.77 0,0.48 -0.45,0.48 -1.03,0.48 l -3.31,0 1.28,5.16 c 0.03,0.17 0.11,0.34 0.11,0.48 0,0.65 -0.48,1.13 -1.19,1.13 -0.87,0 -1.39,-0.59 -1.64,-1.5 -0.23,-0.88 0.22,0.8 -1.33,-5.27 l -3.54,0 c -0.66,0 -1.11,0 -1.11,-0.76 0,-0.49 0.4,-0.49 1.04,-0.49 l 3.3,0 -2.05,-8.21 c -0.21,-0.88 -0.53,-2.13 -0.53,-2.58 0,-2.07 1.75,-3.32 3.74,-3.32 3.87,0 6.06,4.88 6.06,5.33 0,0.46 -0.45,0.46 -0.56,0.46 -0.41,0 -0.46,-0.08 -0.72,-0.66 -0.99,-2.2 -2.77,-4.16 -4.67,-4.16 -0.74,0 -1.22,0.46 -1.22,1.71 0,0.36 0.14,1.09 0.2,1.43 z\" id=\"path10096\" inkscape:connector-curvature=\"0\" style=\"fill:#000000;stroke-width:0\"/></g>    </g>\n",
       "    <text id=\"text10250\" sodipodi:linespacing=\"125%\" style=\"font-style:normal;font-weight:normal;font-size:7.5px;line-height:125%;font-family:sans-serif;letter-spacing:0px;word-spacing:0px;fill:#000000;fill-opacity:1;stroke:none;stroke-width:1px;stroke-linecap:butt;stroke-linejoin:miter;stroke-opacity:1\" x=\"585\" xml:space=\"preserve\" y=\"17.362068\"><tspan id=\"tspan10252\" sodipodi:role=\"line\" x=\"585\" y=\"17.362068\"/></text>\n",
       "    <text id=\"text10254\" sodipodi:linespacing=\"125%\" style=\"font-style:normal;font-weight:normal;font-size:7.5px;line-height:125%;font-family:sans-serif;letter-spacing:0px;word-spacing:0px;fill:#000000;fill-opacity:1;stroke:none;stroke-width:1px;stroke-linecap:butt;stroke-linejoin:miter;stroke-opacity:1\" x=\"532.28882\" xml:space=\"preserve\" y=\"71.17482\"><tspan id=\"tspan10256\" sodipodi:role=\"line\" style=\"font-size:15px\" x=\"532.28882\" y=\"71.17482\">Espacio objeto</tspan></text>\n",
       "    <text id=\"text10254-3\" sodipodi:linespacing=\"125%\" style=\"font-style:normal;font-weight:normal;font-size:7.5px;line-height:125%;font-family:sans-serif;letter-spacing:0px;word-spacing:0px;fill:#000000;fill-opacity:1;stroke:none;stroke-width:1px;stroke-linecap:butt;stroke-linejoin:miter;stroke-opacity:1\" x=\"761.84253\" xml:space=\"preserve\" y=\"71.17482\"><tspan id=\"tspan10256-2\" sodipodi:role=\"line\" style=\"font-size:15px\" x=\"761.84253\" y=\"71.17482\">Espacio recíproco</tspan></text>\n",
       "    <text id=\"text10276\" sodipodi:linespacing=\"125%\" style=\"font-style:normal;font-weight:normal;font-size:7.5px;line-height:125%;font-family:sans-serif;letter-spacing:0px;word-spacing:0px;fill:#000000;fill-opacity:1;stroke:none;stroke-width:1px;stroke-linecap:butt;stroke-linejoin:miter;stroke-opacity:1\" x=\"537.79681\" xml:space=\"preserve\" y=\"286.6828\"><tspan id=\"tspan10278\" sodipodi:role=\"line\" style=\"font-size:15px\" x=\"537.79681\" y=\"286.6828\">Para convertir las coordenadas del espacio </tspan><tspan id=\"tspan10280\" sodipodi:role=\"line\" style=\"font-size:15px\" x=\"537.79681\" y=\"305.4328\">imagen al espacio objeto, simplemente usar</tspan></text>\n",
       "    <g id=\"g10451\" transform=\"translate(319.49395,154.08363)\">\n",
       "      <g font-size-adjust=\"none\" font-stretch=\"normal\" font-style=\"normal\" font-variant=\"normal\" font-weight=\"normal\" id=\"g10453\" letter-spacing=\"normal\" stroke-miterlimit=\"10.433\" style=\"font-style:normal;font-variant:normal;font-weight:normal;font-stretch:normal;letter-spacing:normal;word-spacing:normal;text-anchor:start;fill:none;fill-opacity:1;fill-rule:evenodd;stroke:#000000;stroke-width:1.66666675;stroke-linecap:butt;stroke-linejoin:miter;stroke-miterlimit:10.43299961;stroke-dasharray:none;stroke-dashoffset:0;stroke-opacity:1\" transform=\"matrix(0.52764751,0,0,-0.52764749,58.190737,408.7113)\" word-spacing=\"normal\" xml:space=\"preserve\"><path d=\"m 501.66,417.91 0.04,0.16 0.04,0.16 0.04,0.15 0.04,0.14 0.04,0.14 0.04,0.13 0.04,0.12 0.05,0.11 0.05,0.11 0.05,0.11 0.07,0.09 0.06,0.09 0.08,0.09 0.08,0.08 0.09,0.07 0.09,0.07 0.11,0.06 0.12,0.06 0.13,0.05 0.14,0.05 0.15,0.04 0.09,0.02 0.08,0.02 0.09,0.02 0.09,0.02 0.1,0.01 0.1,0.02 0.1,0.01 0.11,0.01 0.11,0.01 0.12,0.02 0.12,0 0.12,0.01 0.13,0.01 0.13,0.01 0.14,0 0.14,0.01 0.15,0 0.15,0.01 0.16,0 0.16,0 0.17,0 0.17,0 c 1.14,0 1.6,0 1.6,1 0,0.55 -0.5,0.55 -1.35,0.55 l -6.58,0 c -1.29,0 -1.34,0 -1.93,-0.95 l -18.19,-28.39 -3.89,28.18 c -0.16,1.16 -0.25,1.16 -1.55,1.16 l -6.83,0 c -0.93,0 -1.48,0 -1.48,-0.95 0,-0.6 0.44,-0.6 1.44,-0.6 0.65,0 1.54,-0.04 2.14,-0.09 0.79,-0.11 1.09,-0.25 1.09,-0.8 0,-0.2 -0.05,-0.36 -0.19,-0.95 L 463.89,393 c -0.5,-2 -1.34,-3.59 -5.39,-3.73 -0.25,0 -0.89,-0.05 -0.89,-0.96 0,-0.43 0.3,-0.59 0.71,-0.59 1.59,0 3.32,0.16 4.97,0.16 1.7,0 3.5,-0.16 5.14,-0.16 0.25,0 0.89,0 0.89,1 0,0.55 -0.55,0.55 -0.89,0.55 -2.85,0.04 -3.39,1.04 -3.39,2.18 0,0.35 0.04,0.6 0.2,1.14 l 6.76,27.16 0.07,0 4.28,-30.89 c 0.09,-0.59 0.14,-1.14 0.75,-1.14 0.54,0 0.84,0.55 1.09,0.89 l 20.13,31.55 0.04,0 -7.12,-28.55 c -0.5,-1.95 -0.6,-2.34 -4.53,-2.34 -0.85,0 -1.39,0 -1.39,-0.96 0,-0.59 0.59,-0.59 0.75,-0.59 1.39,0 4.78,0.16 6.17,0.16 2.05,0 4.19,-0.16 6.23,-0.16 0.3,0 0.94,0 0.94,1 0,0.55 -0.45,0.55 -1.39,0.55 -1.84,0 -3.23,0 -3.23,0.89 0,0.2 0,0.29 0.25,1.2 z\" id=\"path10455\" inkscape:connector-curvature=\"0\" style=\"fill:#000000;stroke-width:0\"/><path d=\"m 518.2,393.45 -0.18,-0.3 -0.19,-0.29 -0.19,-0.28 -0.18,-0.26 -0.19,-0.25 -0.19,-0.23 -0.18,-0.22 -0.19,-0.21 -0.19,-0.2 -0.18,-0.18 -0.19,-0.17 -0.19,-0.16 -0.18,-0.15 -0.19,-0.14 -0.19,-0.13 -0.19,-0.12 -0.19,-0.11 -0.19,-0.1 -0.19,-0.1 -0.19,-0.08 -0.19,-0.08 -0.19,-0.06 -0.2,-0.07 -0.19,-0.05 -0.2,-0.05 -0.2,-0.04 -0.19,-0.04 -0.2,-0.03 -0.4,-0.05 -0.41,-0.03 c -0.61,-0.05 -1.05,-0.05 -1.05,-1 0,-0.3 0.25,-0.55 0.64,-0.55 1.35,0 2.89,0.16 4.28,0.16 1.64,0 3.39,-0.16 4.99,-0.16 0.29,0 0.95,0 0.95,0.95 0,0.55 -0.45,0.6 -0.8,0.6 -1.15,0.09 -2.34,0.5 -2.34,1.73 0,0.61 0.3,1.16 0.69,1.84 l 3.79,6.39 12.5,0 -0.14,1.54 -11.42,0 9.83,16.45 1.59,-16.45 0.14,-1.54 c 0.11,-1.04 0.8,-7.82 0.8,-8.32 0,-1.5 -2.59,-1.64 -3.58,-1.64 -0.7,0 -1.2,0 -1.2,-1 0,-0.55 0.59,-0.55 0.7,-0.55 2.03,0 4.19,0.16 6.22,0.16 1.25,0 4.39,-0.16 5.64,-0.16 0.3,0 0.89,0 0.89,1 0,0.55 -0.5,0.55 -1.14,0.55 -3.09,0 -3.09,0.34 -3.25,1.79 l -3.03,31.13 c -0.11,1 -0.11,1.2 -0.95,1.2 -0.8,0 -0.99,-0.34 -1.3,-0.84 z\" id=\"path10457\" inkscape:connector-curvature=\"0\" style=\"fill:#000000;stroke-width:0\"/><path d=\"m 584.46,422.34 0,0.02 0,0.02 -0.01,0.01 0,0.02 0,0.02 0,0.02 -0.01,0.02 0,0.02 -0.01,0.02 -0.01,0.02 -0.01,0.02 -0.01,0.02 -0.01,0.02 -0.01,0.02 -0.01,0.02 -0.02,0.02 -0.01,0.02 -0.02,0.02 -0.02,0.02 -0.02,0.02 -0.02,0.01 -0.02,0.02 -0.03,0.01 -0.02,0.02 -0.03,0.01 -0.02,0.01 -0.01,0 -0.02,0.01 -0.01,0 -0.02,0.01 -0.02,0 -0.01,0 -0.02,0.01 -0.02,0 -0.02,0 -0.02,0 -0.02,0 -0.02,0 -0.02,0 c -0.14,0 -0.2,-0.04 -0.75,-0.59 l -3.48,-3.84 c -0.44,0.7 -2.74,4.43 -8.27,4.43 -11.11,0 -22.33,-11.01 -22.33,-22.56 0,-7.92 5.53,-13.66 13.61,-13.66 2.19,0 4.44,0.46 6.22,1.19 2.5,1 3.44,2.05 4.34,3.05 0.46,-1.25 1.74,-3.09 2.24,-3.09 0.25,0 0.36,0.15 0.36,0.2 0.09,0.09 0.59,1.98 0.84,3.03 l 0.94,3.84 c 0.2,0.85 0.45,1.69 0.65,2.55 0.55,2.23 0.6,2.33 3.44,2.39 0.25,0 0.8,0.05 0.8,0.99 0,0.35 -0.25,0.54 -0.64,0.54 -1.16,0 -4.1,-0.14 -5.23,-0.14 -1.55,0 -5.44,0.14 -6.99,0.14 -0.44,0 -1.05,0 -1.05,-0.98 0,-0.55 0.41,-0.55 1.5,-0.55 0.05,0 1.5,0 2.64,-0.11 1.3,-0.14 1.55,-0.29 1.55,-0.94 0,-0.45 -0.55,-2.7 -1.05,-4.53 -1.39,-5.48 -7.87,-6.03 -9.62,-6.03 -4.78,0 -10,2.83 -10,10.45 0,1.55 0.48,9.77 5.72,16.26 2.68,3.39 7.53,6.42 12.45,6.42 5.1,0 8.03,-3.83 8.03,-9.61 0,-2 -0.15,-2.05 -0.15,-2.55 0,-0.5 0.54,-0.5 0.75,-0.5 0.64,0 0.64,0.11 0.89,1 z\" id=\"path10459\" inkscape:connector-curvature=\"0\" style=\"fill:#000000;stroke-width:0\"/><path d=\"m 633.87,404.02 0.14,0 0.14,0 0.15,0 0.07,0.01 0.07,0 0.07,0.01 0.07,0.01 0.07,0.01 0.07,0.01 0.07,0.01 0.07,0.02 0.06,0.02 0.07,0.02 0.06,0.02 0.06,0.03 0.05,0.03 0.05,0.04 0.05,0.03 0.05,0.05 0.04,0.04 0.04,0.05 0.02,0.03 0.02,0.03 0.02,0.02 0.01,0.03 0.02,0.03 0.01,0.04 0.01,0.03 0.01,0.04 0.01,0.03 0.01,0.04 0.01,0.04 0,0.04 0.01,0.04 0,0.04 0,0.04 0,0.05 c 0,1 -0.95,1 -1.64,1 l -29.84,0 c -0.7,0 -1.64,0 -1.64,-1 0,-0.98 0.94,-0.98 1.69,-0.98 z\" id=\"path10461\" inkscape:connector-curvature=\"0\" style=\"fill:#000000;stroke-width:0\"/><path d=\"m 633.91,394.34 0.07,0 0.07,0 0.13,0.01 0.14,0 0.07,0 0.07,0.01 0.07,0.01 0.07,0 0.07,0.01 0.07,0.02 0.06,0.01 0.07,0.02 0.06,0.02 0.06,0.02 0.06,0.02 0.06,0.03 0.05,0.03 0.06,0.04 0.05,0.04 0.04,0.04 0.05,0.05 0.02,0.02 0.02,0.03 0.01,0.02 0.02,0.03 0.02,0.03 0.01,0.03 0.02,0.03 0.01,0.03 0.01,0.04 0.01,0.03 0.01,0.04 0.01,0.04 0.01,0.04 0,0.04 0.01,0.04 0,0.04 0,0.05 0,0.04 c 0,1 -0.95,1 -1.68,1 l -29.75,0 c -0.75,0 -1.69,0 -1.69,-1 0,-1 0.94,-1 1.64,-1 z\" id=\"path10463\" inkscape:connector-curvature=\"0\" style=\"fill:#000000;stroke-width:0\"/><path d=\"m 680.08,441.36 4.28,0 c 1,0 1.5,0 1.5,1 0,0.55 -0.5,0.55 -1.34,0.55 l -4.14,0 1.05,5.69 c 0.2,1.04 0.9,4.58 1.2,5.17 0.45,0.95 1.3,1.7 2.34,1.7 0.19,0 1.49,0 2.44,-0.9 -2.19,-0.19 -2.69,-1.94 -2.69,-2.69 0,-1.14 0.89,-1.74 1.85,-1.74 1.29,0 2.73,1.1 2.73,2.99 0,2.3 -2.3,3.44 -4.33,3.44 -1.7,0 -4.84,-0.89 -6.32,-5.83 -0.3,-1.05 -0.46,-1.55 -1.65,-7.83 l -3.43,0 c -0.96,0 -1.5,0 -1.5,-0.94 0,-0.61 0.45,-0.61 1.39,-0.61 l 3.29,0 -3.75,-19.67 c -0.89,-4.83 -1.73,-9.37 -4.32,-9.37 -0.21,0 -1.44,0 -2.4,0.9 2.3,0.14 2.74,1.94 2.74,2.69 0,1.14 -0.89,1.75 -1.84,1.75 -1.3,0 -2.74,-1.09 -2.74,-3 0,-2.23 2.19,-3.44 4.24,-3.44 2.73,0 4.73,2.94 5.62,4.85 1.6,3.14 2.75,9.15 2.8,9.51 z\" id=\"path10465\" inkscape:connector-curvature=\"0\" style=\"fill:#000000;stroke-width:0\"/><path d=\"m 703.1,434.96 0.01,0.04 0.01,0.05 0.01,0.04 0.01,0.05 0.01,0.04 0.01,0.04 0.01,0.04 0.01,0.04 0.02,0.07 0.02,0.07 0.02,0.06 0.02,0.06 0.02,0.06 0.02,0.05 0.02,0.05 0.02,0.04 0.02,0.04 0.03,0.04 0.02,0.04 0.03,0.03 0.03,0.03 0.02,0.02 0.04,0.03 0.03,0.02 0.04,0.02 0.03,0.02 0.04,0.01 0.05,0.02 0.04,0.01 0.05,0.01 0.05,0.01 0.06,0.01 0.06,0.01 0.06,0 0.07,0.01 0.07,0 c 0.17,0.04 1.39,0.04 2.09,0.04 2.13,0 3.03,0 3.89,-0.29 1.58,-0.48 1.64,-1.5 1.64,-2.75 0,-0.54 0,-1 -0.23,-2.81 l -0.08,-0.39 c 0,-0.34 0.25,-0.51 0.59,-0.51 0.53,0 0.6,0.31 0.67,0.86 l 0.94,6.65 c 0,0.5 -0.42,0.5 -1.04,0.5 l -21.44,0 c -0.86,0 -0.94,0 -1.18,-0.73 l -2.2,-6.17 c -0.03,-0.15 -0.17,-0.46 -0.17,-0.63 0,-0.14 0.06,-0.48 0.59,-0.48 0.46,0 0.52,0.17 0.74,0.82 2.01,5.58 3.17,5.93 8.47,5.93 l 1.45,0 c 1.05,0 1.08,-0.04 1.08,-0.35 0,-0.03 0,-0.2 -0.14,-0.73 l -4.6,-18.33 c -0.31,-1.28 -0.42,-1.64 -4.07,-1.64 -1.25,0 -1.57,0 -1.57,-0.77 0,-0.09 0.07,-0.48 0.6,-0.48 0.97,0 2.01,0.11 2.98,0.11 0.99,0 2.03,0.03 3,0.03 0.99,0 2.17,0 3.14,-0.03 0.94,-0.05 1.99,-0.11 2.92,-0.11 0.28,0 0.82,0 0.82,0.76 0,0.49 -0.36,0.49 -1.44,0.49 -0.66,0 -1.36,0.05 -2.02,0.08 -1.18,0.09 -1.25,0.23 -1.25,0.65 0,0.25 0,0.32 0.13,0.8 z\" id=\"path10467\" inkscape:connector-curvature=\"0\" style=\"fill:#000000;stroke-width:0\"/><path d=\"m 729.44,434.82 0.03,0.11 0.02,0.11 0.03,0.11 0.03,0.1 0.03,0.09 0.03,0.09 0.04,0.09 0.04,0.08 0.04,0.08 0.04,0.07 0.05,0.07 0.06,0.06 0.06,0.06 0.07,0.06 0.07,0.05 0.09,0.05 0.09,0.04 0.1,0.04 0.11,0.04 0.12,0.03 0.06,0.02 0.07,0.01 0.07,0.01 0.08,0.02 0.07,0.01 0.08,0.01 0.08,0.01 0.09,0.01 0.09,0.01 0.09,0.01 0.1,0.01 0.1,0.01 0.1,0 0.11,0.01 0.11,0 0.11,0.01 0.12,0 0.12,0.01 0.13,0 0.13,0 0.13,0 0.14,0 0.15,0.01 0.14,0 c 1.08,0 1.42,0 1.42,0.76 0,0.03 -0.03,0.49 -0.59,0.49 -0.8,0 -1.73,-0.07 -2.58,-0.11 -0.87,-0.03 -1.9,-0.03 -2.78,-0.03 -0.73,0 -1.67,0.03 -2.41,0.03 -0.73,0 -1.56,0.11 -2.26,0.11 -0.2,0 -0.74,0 -0.74,-0.77 0,-0.48 0.43,-0.48 1.13,-0.48 0.03,0 0.69,0 1.31,-0.08 0.74,-0.06 0.82,-0.14 0.82,-0.49 0,-0.06 0,-0.23 -0.15,-0.76 l -4.64,-18.5 c -0.31,-1.19 -0.39,-1.47 -3.06,-1.47 -0.59,0 -1.05,0 -1.05,-0.74 0,-0.51 0.43,-0.51 1.05,-0.51 l 17.52,0 c 0.87,0 0.9,0.03 1.18,0.7 0.36,0.94 2.97,7.69 2.97,7.97 0,0.11 -0.08,0.5 -0.59,0.5 -0.42,0 -0.49,-0.19 -0.7,-0.73 -1.32,-3.32 -2.86,-7.19 -9.24,-7.19 l -3.94,0 c -1.07,0 -1.11,0.05 -1.11,0.36 0,0.03 0,0.2 0.15,0.72 z\" id=\"path10469\" inkscape:connector-curvature=\"0\" style=\"fill:#000000;stroke-width:0\"/><polyline id=\"polyline10471\" points=\"658,399 748.24,399 748.24,401.04 658,401.04 \" style=\"fill:#000000;fill-rule:nonzero;stroke-width:0\"/><path d=\"m 673.29,369.71 4.83,0 c 3.75,0 4.14,-0.8 4.14,-2.24 0,-0.36 0,-0.95 -0.34,-2.43 -0.11,-0.25 -0.16,-0.46 -0.16,-0.57 0,-0.39 0.3,-0.59 0.59,-0.59 0.5,0 0.5,0.16 0.75,1.05 l 2.75,10.81 c 0.15,0.55 0.15,0.65 0.15,0.8 0,0.09 -0.1,0.54 -0.6,0.54 -0.5,0 -0.55,-0.25 -0.75,-1.04 -1.05,-3.88 -2.18,-4.79 -6.42,-4.79 l -4.53,0 3.19,12.66 c 0.43,1.75 0.5,1.94 2.68,1.94 l 6.58,0 c 6.13,0 7.27,-1.64 7.27,-5.47 0,-1.16 0,-1.34 -0.14,-2.7 -0.11,-0.64 -0.11,-0.74 -0.11,-0.89 0,-0.25 0.15,-0.6 0.61,-0.6 0.54,0 0.59,0.3 0.69,1.25 l 1,8.61 c 0.15,1.34 -0.1,1.34 -1.35,1.34 l -24.4,0 c -1,0 -1.5,0 -1.5,-1 0,-0.54 0.45,-0.54 1.38,-0.54 1.85,0 3.24,0 3.24,-0.89 0,-0.21 0,-0.3 -0.25,-1.21 l -6.56,-26.34 c -0.5,-1.95 -0.61,-2.34 -4.55,-2.34 -0.84,0 -1.39,0 -1.39,-0.96 0,-0.59 0.59,-0.59 0.75,-0.59 1.44,0 5.13,0.16 6.58,0.16 1.64,0 5.78,-0.16 7.42,-0.16 0.45,0 1.05,0 1.05,0.95 0,0.39 -0.3,0.49 -0.3,0.55 -0.16,0.05 -0.25,0.05 -1.39,0.05 -1.11,0 -1.36,0 -2.6,0.09 -1.45,0.16 -1.59,0.36 -1.59,1 0,0.09 0,0.41 0.19,1.14 z\" id=\"path10473\" inkscape:connector-curvature=\"0\" style=\"fill:#000000;stroke-width:0\"/><path d=\"m 708.74,355.34 -0.01,0.36 -0.03,0.35 -0.04,0.34 -0.05,0.33 -0.07,0.32 -0.09,0.31 -0.1,0.29 -0.12,0.29 -0.13,0.28 -0.14,0.26 -0.15,0.26 -0.17,0.25 -0.17,0.23 -0.19,0.22 -0.2,0.21 -0.21,0.2 -0.22,0.19 -0.23,0.18 -0.24,0.17 -0.25,0.15 -0.26,0.14 -0.26,0.14 -0.27,0.11 -0.28,0.11 -0.28,0.1 -0.29,0.08 -0.3,0.07 -0.3,0.06 -0.31,0.04 -0.31,0.03 -0.31,0.02 -0.32,0.01 c -5.17,0 -10.04,-4.85 -10.04,-9.61 0,-3.49 2.54,-6.1 6.34,-6.1 l 0.03,0.97 c -1.74,0 -3.49,1.13 -3.49,3.88 0,1.42 0.68,4.84 2.04,6.83 1.5,2.15 3.51,3.06 5.08,3.06 1.88,0 3.48,-1.3 3.48,-3.88 0,-0.82 -0.41,-4.28 -1.95,-6.71 -1.32,-2.05 -3.41,-3.18 -5.16,-3.18 l 0,0 -0.03,-0.97 c 4.98,0 10,4.6 10,9.61 z\" id=\"path10475\" inkscape:connector-curvature=\"0\" style=\"fill:#000000;stroke-width:0\"/><path d=\"m 719.12,369.22 0,0 0,0.01 0.01,0 0,0.01 0,0 0,0.01 0,0 0.01,0.01 0,0.01 0,0 0.01,0.02 0,0.02 0.01,0.02 0,0.02 0.01,0.02 0,0.02 0.01,0.02 0.01,0.02 0,0.03 0.01,0.04 0.01,0.05 0.01,0.02 0.01,0.03 0,0.02 0.01,0.02 0,0.02 0,0.02 0.01,0.01 0,0.02 0,0.01 0,0 0.01,0.01 0,0.01 0,0 0,0.01 0,0 0,0.01 0,0 0,0 0,0 0,0.01 c 0,0.18 -0.14,0.5 -0.56,0.5 -0.7,0 -3.6,-0.29 -4.45,-0.36 -0.28,-0.03 -0.78,-0.07 -0.78,-0.8 0,-0.49 0.5,-0.49 0.9,-0.49 1.67,0 1.67,-0.24 1.67,-0.53 0,-0.23 -0.34,-1.62 -0.54,-2.43 l -0.8,-3.21 c -0.33,-1.18 -2.23,-8.81 -2.31,-9.26 -0.17,-0.85 -0.17,-1.3 -0.17,-1.71 0,-3.53 2.23,-5.75 5.12,-5.75 l 0.03,0.97 c -1.7,0 -2.67,1.5 -2.67,3.57 0,1.28 0.31,2.46 1.28,6.4 0.2,0.66 0.2,0.74 0.87,1.5 1.33,1.53 2.9,2.3 4.15,2.3 1.35,0 2.54,-1.02 2.54,-3.38 0,-1.43 -0.76,-4.98 -1.81,-7.01 -0.84,-1.7 -2.58,-3.38 -4.36,-3.38 l 0,0 -0.03,-0.97 c 4.36,0 8.98,4.74 8.98,9.89 0,4.08 -2.81,5.82 -5.22,5.82 -1.81,0 -3.34,-1 -4.38,-1.91 z\" id=\"path10477\" inkscape:connector-curvature=\"0\" style=\"fill:#000000;stroke-width:0\"/><path d=\"m 742.73,367.86 0,0.06 0,0.05 -0.01,0.06 -0.01,0.06 -0.01,0.05 -0.01,0.06 -0.02,0.06 -0.02,0.06 -0.02,0.05 -0.03,0.06 -0.03,0.06 -0.03,0.05 -0.03,0.05 -0.04,0.06 -0.04,0.05 -0.04,0.05 -0.04,0.04 -0.05,0.05 -0.05,0.04 -0.05,0.04 -0.06,0.04 -0.06,0.04 -0.06,0.03 -0.06,0.03 -0.07,0.03 -0.07,0.03 -0.07,0.02 -0.08,0.02 -0.08,0.01 -0.08,0.01 -0.08,0.01 -0.09,0 c -1.01,0 -1.95,-0.99 -1.95,-1.92 0,-0.57 0.42,-1.33 1.39,-1.33 0.94,0 1.95,0.9 1.95,1.92 z\" id=\"path10479\" inkscape:connector-curvature=\"0\" style=\"fill:#000000;stroke-width:0\"/><path d=\"m 735.34,344.38 -0.06,-0.23 -0.06,-0.22 -0.08,-0.22 -0.08,-0.22 -0.08,-0.21 -0.1,-0.21 -0.09,-0.2 -0.11,-0.2 -0.11,-0.2 -0.12,-0.19 -0.12,-0.18 -0.13,-0.18 -0.13,-0.18 -0.14,-0.16 -0.14,-0.16 -0.14,-0.16 -0.15,-0.15 -0.16,-0.14 -0.16,-0.13 -0.16,-0.12 -0.16,-0.12 -0.17,-0.11 -0.18,-0.09 -0.17,-0.09 -0.18,-0.08 -0.18,-0.08 -0.18,-0.06 -0.18,-0.05 -0.19,-0.04 -0.19,-0.02 -0.19,-0.02 -0.19,-0.01 c -0.45,0 -0.88,0.07 -1.27,0.21 0.91,0.42 1.19,1.25 1.19,1.78 0,0.83 -0.66,1.28 -1.36,1.28 -1.08,0 -1.98,-0.94 -1.98,-2.05 0,-1.33 1.36,-2.2 3.45,-2.2 2.09,0 6.16,1.25 7.25,5.5 l 3.13,12.48 c 0.11,0.38 0.17,0.69 0.17,1.22 0,1.91 -1.63,3.27 -3.72,3.27 -3.88,0 -6.1,-4.85 -6.1,-5.33 0,-0.45 0.49,-0.45 0.6,-0.45 0.4,0 0.45,0.11 0.69,0.62 0.87,2.03 2.68,4.19 4.7,4.19 0.87,0 1.19,-0.59 1.19,-1.7 0,-0.39 -0.07,-0.88 -0.11,-1.05 z\" id=\"path10481\" inkscape:connector-curvature=\"0\" style=\"fill:#000000;stroke-width:0\"/></g>    </g>\n",
       "  </g>\n",
       "</svg>"
      ],
      "text/plain": [
       "<IPython.core.display.SVG object>"
      ]
     },
     "metadata": {},
     "output_type": "display_data"
    }
   ],
   "source": [
    "display(SVG('lens_system.svg'))"
   ]
  },
  {
   "cell_type": "markdown",
   "metadata": {},
   "source": [
    "En el plano transformado, la frecuencia espacial máxima esta relacionada con la resolución por difracción y por el criterio de Rayleigh es $k_{max}=\\frac{2\\pi}{0.61\\lambda}$. De modo que la frecuencia de corte del sistema óptico ideal es $\\frac{2\\pi}{0.61\\lambda}=0.61*k_0$.\n",
    "\n",
    "NOTA: el primer cero en la función de Airy se encuentra en $x*k_0*NA=1.22\\pi$, con lo cual en una pantalla el primer cero estará en $x=0.61*\\frac{\\lambda}{NA}$.\n"
   ]
  },
  {
   "cell_type": "code",
   "execution_count": null,
   "metadata": {
    "collapsed": true
   },
   "outputs": [],
   "source": [
    "wavelength = 450E-9\n",
    "k0 = 2*np.pi/wavelength\n",
    "NA = 0.12\n",
    "cutoff_frequency = k0*NA"
   ]
  },
  {
   "cell_type": "markdown",
   "metadata": {},
   "source": [
    "Para hacer cálculos en el dominio muestreado, hay que tener en cuenta justamente la discretización del sensor. Los dos parámetros que lo definen (al menos en una primera aproximación) son el tamaño del pixel (ps) y sus dimensiones (numero de pixeles en x y en y, cantidad que en éste párrafo llamaremos np). Para simplificar algunas cosas se puede trabajar con coordenadas en el plano objeto (es decir, considerando la magnificacón del sistema), de esta manera es $ps = \\frac{tam_pixel}{M}$. De acuerdo a la teoría del muestreo, la frecuencia máxima corresponderá a $fs=\\frac{1}{ps}$, siendo $\\delta f = \\frac{\\fs}{np}$\n",
    "La frecuencia de muestreo más alta es $\\frac{2\\pi}{pixel}$, con pasos dados por $\\frac{2\\pi}{NPX*PS}$ (siendo NPX la cantidad de pixeles en una dada dimensión, para ambos casos es totalemente análogo, debiendose tomar la precaución de usar el PS adecuado si los pixeles no son cuadrados). El radio de la pupila en estas coordenadas vendrá dado por $\\frac{NA}{\\lambda}$"
   ]
  },
  {
   "cell_type": "code",
   "execution_count": null,
   "metadata": {
    "collapsed": false
   },
   "outputs": [],
   "source": [
    "# Maximum sampling frequency calculation\n",
    "magnification = 8\n",
    "pixel_size = 5.670E-6/magnification\n",
    "NPX, NPY = [400, 400]\n",
    "pupil_radius = NA/wavelength\n",
    "fs = 1/pixel_size\n",
    "df = fs/NPX\n",
    "pupil_radius_pixels = pupil_radius/df\n",
    "fx = np.arange(-fs / 2, fs / 2, step = df)*1E-6 # Spatial frequency, inverse microns\n",
    "pupil = fpm.generate_pupil(theta=0, phi=0, power=0, image_size=[NPY, NPX],\n",
    "                       wavelength=wavelength, pixel_size=pixel_size, na=NA)\n",
    "# Show the pupil\n",
    "ax = plt.imshow(np.abs(pupil), extent = [fx[0], fx[-1], fx[0], fx[-1]])\n",
    "plt.grid(False)\n",
    "cb = plt.colorbar(ax)\n",
    "cb.set_label('$P \\, ( f_x, f_y ) $')\n",
    "plt.xlabel('$f_x$, $\\mu m^{-1}$')\n",
    "plt.ylabel('$f_y$, $\\mu m^{-1}$')\n",
    "plt.show()\n"
   ]
  },
  {
   "cell_type": "markdown",
   "metadata": {},
   "source": [
    "La pupila tiene el efecto pasabajos sobre la imagen. En el siguiente ejemplo se trabaja en coordenadas dadas por el número de onda donde se ilustra dicho efecto."
   ]
  },
  {
   "cell_type": "code",
   "execution_count": null,
   "metadata": {
    "collapsed": false
   },
   "outputs": [],
   "source": [
    "from scipy import fftpack, ndimage\n",
    "## El objeto muestreado\n",
    "objectIntensity = ndimage.imread('cameraman.tif', flatten=True)     # flatten=True gives a greyscale image\n",
    "objectAmplitude = np.sqrt(objectIntensity)\n",
    "objectAmplitudeFT = fftpack.fftshift(fftpack.fft2(objectAmplitude))\n",
    "m, n = np.shape(objectAmplitude)\n",
    "kx = np.linspace(-np.pi/pixel_size, np.pi/pixel_size,n)\n",
    "ky = np.linspace(-np.pi/pixel_size, np.pi/pixel_size, m)\n",
    "kxm, kym = np.meshgrid(kx, ky, sparse = True)\n",
    "CTF = (kxm**2+kym**2<cutoff_frequency**2).astype(int)\n",
    "outputFT = CTF*objectAmplitudeFT\n",
    "outputAmplitude = fftpack.ifft2(fftpack.ifftshift(outputFT))\n",
    "outputIntensity = np.abs(outputAmplitude**2)\n",
    "# plt.imshow(np.log(np.abs(outputFT)), cmap='gray')\n",
    "fig, ax = plt.subplots(nrows = 1, ncols = 3, figsize=(15,15))\n",
    "ax[0].imshow(outputIntensity, cmap='gray')\n",
    "ax[1].imshow(objectIntensity, cmap='gray')\n",
    "ax[2].imshow(CTF, cmap='gray')\n",
    "plt.show()"
   ]
  },
  {
   "cell_type": "markdown",
   "metadata": {},
   "source": [
    "## Onda plana incidente con ángulo variable\n",
    "\n",
    "Al incidir una onda plana $Ae^{i\\phi(kx,ky)}$ sobre una muestra situeda en el foco de una lente (como en la figura de arriba), en el plano focal trasero de la misma de obtiene un campo con una distribución que puede aproximarse como la transformada de fourier de la onda incidente por una función $t(x,y)$ que modela la transmisión de la muestra. "
   ]
  },
  {
   "cell_type": "markdown",
   "metadata": {},
   "source": [
    "Ahora bien, en una imagen con un tamaño de pixel dado, la máxima resolución asequible viene dada por $\\frac{FS}{2}=\\frac{1}{2\\Delta x}$, que a si vez corresponde a una cantidad apertura numerica $\\frac{1}{2\\Delta x r_{pup}}$ veces mayor que la que el sistema físico posee.\n",
    "Por ejemplo, tomando los valores ya calculados arriba, se tiene que la apertura numérica sintética máxima (correspondiente a una pupila que abarque totalmente el sensor) tendria que ser"
   ]
  },
  {
   "cell_type": "code",
   "execution_count": null,
   "metadata": {
    "collapsed": false
   },
   "outputs": [],
   "source": [
    "NA_max = NA*1/(2*pixel_size*pupil_radius)\n",
    "angle_max = np.arcsin(NA_max)*180/np.pi\n",
    "print('Maxima NA sintetica:\\t%.2f' % (NA_max))\n",
    "print('Maximo angulo zenital correspondiente:\\t%.2fº' % (angle_max))"
   ]
  },
  {
   "cell_type": "markdown",
   "metadata": {},
   "source": [
    "Esto no quiere decir que no se puedan conseguir aperturas sintéticas mayores con la técnica; no es un límite físico insuperable y veremos más adelante como superarlo. El sistema de iluminación se define en el sistema de coordenadas mostrado en la figura. La correcta definición de los ángulos y proyecciones es importante dado que son las que se usarán para generar los corrimientos en la pupila que luego definirán la apertura sintética del sistema."
   ]
  },
  {
   "cell_type": "code",
   "execution_count": null,
   "metadata": {
    "collapsed": false
   },
   "outputs": [],
   "source": [
    "display(SVG('angle_definition.svg'))"
   ]
  },
  {
   "cell_type": "markdown",
   "metadata": {},
   "source": [
    "La onda plana incidente puede reescribirse en función de estos ángulos como \n",
    "\n",
    "\\begin{equation}\n",
    "Ae^{\\frac{2\\pi}{\\lambda} \\left(\\sin\\varphi\\cos\\theta,\\,\\sin\\varphi\\sin\\theta \\right)}.\n",
    "\\end{equation}\n",
    "\n",
    "Ahora bien, trabajando en frecuencias espaciales hemos visto que el valor máximo muestreable por el sensor está en $\\frac{FS}{2}=\\frac{1}{2\\Delta x}$, lo cual quiere decir que no tiene sentido, para un dado tamaño de pixel, mover a la pupila más allá de $\\frac{FS}{2}-r_{pup}=\\frac{1}{2\\Delta x}-\\frac{NA}{\\lambda}$\n",
    "\n",
    "En valores muestrales, esto es\n",
    "\n",
    "\\begin{equation}\n",
    "\\frac{N_{PX}}{2}-\\frac{NA \\Delta x N_{PX}}{\\lambda}\n",
    "\\end{equation}\n",
    "\n",
    "Usando estas consideraciones se pueden obtener algunas útiles conclusiones:\n",
    "\n",
    "1) Dado que el módulo de la proyección de f ($f=\\frac{k}{2\\pi}$) en el plano de fourier viene dado por $\\frac{\\sin\\varphi}{\\lambda}$ y la máxima frecuencia muestral es $\\frac{1}{2 \\Delta x}$. Considerando una pupila pequeña (cuasi puntual) el valor más extremo que puede tomar $\\phi$ en esta configuración es $\\sin^{-1}\\frac{\\lambda}{2 \\Delta x}$. De acá puede verse que muestrear a más de $\\frac{\\Delta x}{2}$ no tiene sentido físico (equivale a decir que el límite en la mejora de la resolución viene dado por el límite de difracción).\n",
    "\n",
    "2) Dado un determinado sensor, el valor extremo de muestreo coincide la proyección de este $\\varphi_{max}$\n",
    "\n",
    "3) Teniendo en cuenta ahora en ancho de la pupila, no tiene sentido correr su centro a una posición más lejana que aquella en la que su borde toca el extremo más lejano del sensor, con lo cual $\\varphi_{max}$ es más pequeño que lo mencionado en el punto anterior. De hecho, vale \n",
    "\\begin{equation}\n",
    "\\varphi_{max}=\\sin^{-1}\\left( \\frac{\\lambda}{2 \\Delta x}- NA \\right)\n",
    "\\end{equation}\n",
    "\n",
    "4) De manera que las coordenadas del centro de la pupila vendran dadas por\n",
    "\n",
    "\\begin{equation}\n",
    "(x_c, y_x) + \\frac{1}{\\lambda} \\left(\\sin\\varphi\\cos\\theta,\\,\\sin\\varphi\\sin\\theta \\right) \\Delta x N_{PX}\n",
    "\\end{equation}\n",
    "\n"
   ]
  },
  {
   "cell_type": "code",
   "execution_count": null,
   "metadata": {
    "collapsed": false
   },
   "outputs": [],
   "source": [
    "phi_max = np.arcsin(wavelength/(2*pixel_size)-NA)\n",
    "phi_max = np.degrees(phi_max)\n",
    "print('Maximo angulo zenital correspondiente:\\t%.2fº' % phi_max)\n",
    "phi = phi_max\n",
    "theta = 0\n",
    "pupil = fpm.generate_pupil(theta=0, phi=phi, power=0, image_size=[NPY, NPX],\n",
    "                       wavelength=wavelength, pixel_size=pixel_size, na=NA)\n",
    "# Show the pupil\n",
    "ax = plt.imshow(np.abs(pupil), extent = [fx[0], fx[-1], fx[0], fx[-1]])\n",
    "plt.grid(False)\n",
    "cb = plt.colorbar(ax)\n",
    "cb.set_label('$P \\, ( f_x, f_y ) $')\n",
    "plt.xlabel('$f_x$, $\\mu m^{-1}$')\n",
    "plt.ylabel('$f_y$, $\\mu m^{-1}$')\n",
    "plt.show()\n"
   ]
  },
  {
   "cell_type": "markdown",
   "metadata": {},
   "source": [
    "## El phi máximo no es tan máximo\n",
    "\n",
    "Arriba hemos calculado el phi máximo para una dada configuración, pero en esta aplicación este límite puede quebrarse dado que independientemente de todas las características del sensor y la iluminación siempre puede tomarse una foto de el objeto bajo un angulo zenital mayor y ésta contendrá información de alta frecuencia de obeto sensado a pesar de que por los medios usuales ésta no pueda medirse. Dado que la frecuencia máxima de muestreo está relacionada con el tamaño del píxel, esta información fuera del dominio de muestreo puede considerarse como una relación proporcional (y \"virtual\") del tamaño del pixel.\n",
    "\n",
    "Por un lado está la información del objeto \"por fuera\" de la apertura numérica del sistema óptico sobre la que hemos tratado hasta recién. Por otro está la información que supera la máxima frecuencia espacial admisible por el sensor. \n",
    "\n",
    "Si simplemente cambio el tamaño de pixel, el efecto neto es que la pupila se achica sobre el mismo área. Para que la pupila conserve su tamaño (y por lo tanto el objeto filtrado posea la misma información espectral que el original), también hay que cambiar proporcionalmente la cantidad de los pixels (es decir, el tamaño total del sensor debe permanecer invariante). Un ejemplo de esto se muestra en la siguiente simulación de muestreo.\n"
   ]
  },
  {
   "cell_type": "code",
   "execution_count": null,
   "metadata": {
    "collapsed": false
   },
   "outputs": [],
   "source": [
    "from scipy import fftpack, ndimage\n",
    "## El objeto muestreado\n",
    "pixel_size_scale = 5E-8\n",
    "f0 = 1/wavelength\n",
    "objectIntensity = ndimage.imread('Image_4a_mag.png', flatten=True)     # flatten=True gives a greyscale image\n",
    "def sample(objectIntensity, pixel_size, k0, resize_factor):\n",
    "    pixel_size = pixel_size/resize_factor\n",
    "    objectIntensity = ndimage.zoom(objectIntensity, resize_factor, order=0)\n",
    "    objectAmplitude = np.sqrt(objectIntensity)\n",
    "    objectAmplitudeFT = fftpack.fftshift(fftpack.fft2(objectAmplitude))\n",
    "    m, n = np.shape(objectAmplitude)\n",
    "    fx = np.linspace(-1/(pixel_size*2), 1/(pixel_size*2),n)\n",
    "    fy = np.linspace(-1/(pixel_size*2), 1/(pixel_size*2), m)\n",
    "    fxm, fym = np.meshgrid(fx, fy, sparse = True)\n",
    "    CTF = (fxm**2+fym**2<f0**2).astype(int)\n",
    "    outputFT = CTF*objectAmplitudeFT\n",
    "    outputAmplitude = fftpack.ifft2(fftpack.ifftshift(outputFT))\n",
    "    outputIntensity = np.abs(outputAmplitude**2)\n",
    "    return outputIntensity, CTF\n",
    "\n",
    "out1, pupil1 = sample(objectIntensity, pixel_size_scale, k0, .5)\n",
    "out2, pupil2 = sample(objectIntensity, pixel_size_scale, k0, 2)\n",
    "# plt.imshow(np.log(np.abs(outputFT)), cmap='gray')\n",
    "fig, ((ax1, ax2), (ax3, ax4)) = plt.subplots(nrows = 2, ncols = 2, figsize=(15,12))\n",
    "ax1.imshow(out1, cmap='gray')\n",
    "ax2.imshow(pupil1, cmap='gray')\n",
    "ax3.imshow(out2, cmap='gray')\n",
    "ax4.imshow(pupil2, cmap='gray')\n",
    "plt.show()"
   ]
  },
  {
   "cell_type": "markdown",
   "metadata": {},
   "source": [
    "En ambos casos se escaló de la misma manera el tamaño del pixel y la cantidad de pixeles en la imagen, siendo en el primer caso el factor de escala 0.5 y en el segundo de 2. Dado que el tamaño de la pupila es $\\frac{NA}{\\lambda}*\\frac{1}{NPX*PS}$ la relación entre el tamaño de la pupila y el tamaño de la imagen sigue el mismo factor de escala. Hay que recordar que la transformada de una imagen ampliada se comprime con el mismo factor de escala, por lo cual la información espectral dentro de ambas áreas es la misma pero hay más lugar para mover la pupila. \n",
    "\n",
    "De hecho, para ambos casos vale:"
   ]
  },
  {
   "cell_type": "code",
   "execution_count": null,
   "metadata": {
    "collapsed": false
   },
   "outputs": [],
   "source": [
    "phi_max1 = np.arcsin(wavelength/(2*pixel_size/0.5)-NA)\n",
    "phi_max2 = np.arcsin(wavelength/(2*pixel_size/2.)-NA)\n",
    "print(\"NPX de la imagen de arriba %i. Angulo zenital máximo: %.1fº\" % (np.shape(out1)[0], np.degrees(phi_max1) ))\n",
    "print(\"NPX de la imagen de abajo %i. Angulo zenital máximo: %.1fº\" % (np.shape(out2)[0], np.degrees(phi_max2) ))"
   ]
  },
  {
   "cell_type": "markdown",
   "metadata": {},
   "source": [
    "Se puede calcular el tamaño del pixel para un dado ángulo máximo según:\n",
    "\\begin{equation}\n",
    "PS = \\frac{\\lambda}{2 \\left( \\sin\\varphi_{max}  +NA \\right)}\n",
    "\\end{equation}"
   ]
  },
  {
   "cell_type": "code",
   "execution_count": null,
   "metadata": {
    "collapsed": false
   },
   "outputs": [],
   "source": [
    "def pixel_size_required(phi_max, wavelength, NA):\n",
    "    phi_max_rad = np.radians(phi_max)\n",
    "    return wavelength/(np.sin(phi_max_rad)+NA)/2\n",
    "NA = 0.12\n",
    "wavelength = 450E-9\n",
    "phi_max = 30\n",
    "print(\"Tamaño de pixel requerido: %.2f nm\" % (1E9*pixel_size_required(phi_max, wavelength, NA)))"
   ]
  },
  {
   "cell_type": "markdown",
   "metadata": {
    "collapsed": false
   },
   "source": [
    "## Simulación realista de una adquisición\n",
    "\n",
    "Para la simulación realista con los parámetros físicos reales del sistema hay que tener una imagen con información de fase. La información de módulo y fase de la muestra vienen dados básicamente por la absorción, la profundidad y el índice de refracción en cada punto muestreado."
   ]
  },
  {
   "cell_type": "code",
   "execution_count": null,
   "metadata": {
    "collapsed": false
   },
   "outputs": [],
   "source": [
    "image_size = [500, 500]\n",
    "nx, ny = image_size\n",
    "xc, yc = fpm.image_center(image_size)\n",
    "xsp, ysp = [xc, yc]\n",
    "rad = 70\n",
    "coords = np.array([xc, yc])\n",
    "pup_matrix = np.zeros(image_size, dtype=np.uint8)\n",
    "xx, yy = np.meshgrid(range(ny), range(nx))\n",
    "c = (xx-xsp)**2+(yy-ysp)**2\n",
    "image_gray = c\n",
    "# image_gray = [c < rad**2][0]\n",
    "fig, (ax1, ax2) = plt.subplots(nrows = 1, ncols = 2, figsize=(15, 5))\n",
    "ax1.imshow(image_gray)\n",
    "plt.plot()"
   ]
  },
  {
   "cell_type": "code",
   "execution_count": 8,
   "metadata": {
    "collapsed": false
   },
   "outputs": [
    {
     "name": "stdout",
     "output_type": "stream",
     "text": [
      "The autoreload extension is already loaded. To reload it, use:\n",
      "  %reload_ext autoreload\n",
      "[[ 0.5  0.5  0.5 ...,  0.5  0.5  0.5]\n",
      " [ 0.5  0.5  0.5 ...,  0.5  0.5  0.5]\n",
      " [ 0.5  0.5  0.5 ...,  0.5  0.5  0.5]\n",
      " ..., \n",
      " [ 0.5  0.5  0.5 ...,  0.5  0.5  0.5]\n",
      " [ 0.5  0.5  0.5 ...,  0.5  0.5  0.5]\n",
      " [ 0.5  0.5  0.5 ...,  0.5  0.5  0.5]]\n",
      "Warning: the range of your scalar values differs by more than a factor 100 than the range of the grid values and you did not specify a warp_scale. You could try warp_scale=\"auto\".\n"
     ]
    },
    {
     "data": {
      "text/plain": [
       "<mayavi.modules.surface.Surface at 0x7f9913926530>"
      ]
     },
     "execution_count": 8,
     "metadata": {},
     "output_type": "execute_result"
    }
   ],
   "source": [
    "%load_ext autoreload\n",
    "import matplotlib\n",
    "matplotlib.use('Qt4Agg')\n",
    "matplotlib.interactive(True)\n",
    "# %matplotlib inline\n",
    "import mayavi.mlab as mlab\n",
    "import matplotlib.pyplot as plt\n",
    "\n",
    "def generate_model(nx, ny):\n",
    "    \"\"\"Test surf on regularly spaced co-ordinates like MayaVi.\"\"\"\n",
    "    xx, yy = np.mgrid[-1.:1:nx*1j, -1.:1:ny*1j]\n",
    "    \n",
    "    def sample_height(xx, yy, cx, cy, rad):\n",
    "        sample_height = .1*np.exp(-(2*(xx-cx)**2 + (yy-cy)**2)/rad**2)/(rad**2)-.2\n",
    "        sample_height[sample_height < 0] = 0\n",
    "#         sample_height[sample_height > 0] += .1\n",
    "        return sample_height\n",
    "    \n",
    "    def refraction_index(xx, yy):\n",
    "        refraction_index = .5*np.ones_like((xx))\n",
    "        return refraction_index\n",
    "    \n",
    "    def absorption(xx, yy):\n",
    "        sample_absorption = 1.5*np.zeros_like((xx))\n",
    "        return sample_absorption\n",
    "    \n",
    "    sample_height = sample_height(xx, yy, 0, 0, .55)\n",
    "    sample_refind = refraction_index(xx, yy)\n",
    "    sample_abs = absorption(xx, yy)\n",
    "#     h += height(xx, yy, .1, .2, .5) \n",
    "    return xx, yy, sample_height, sample_refind, sample_abs\n",
    "\n",
    "def mayavi_plot_sample():\n",
    "    xx, yy, height, refind, absorption = generate_model(500, 500)\n",
    "    print(refind)\n",
    "    s = mlab.surf(xx, yy, height)\n",
    "    return s\n",
    "    \n",
    "mayavi_plot_sample()\n"
   ]
  },
  {
   "cell_type": "code",
   "execution_count": 23,
   "metadata": {
    "collapsed": false
   },
   "outputs": [
    {
     "data": {
      "text/plain": [
       "[(-1.0,\n",
       "  -0.77777777777777779,\n",
       "  -0.55555555555555558,\n",
       "  -0.33333333333333337,\n",
       "  -0.11111111111111116,\n",
       "  0.11111111111111116,\n",
       "  0.33333333333333326,\n",
       "  0.55555555555555536,\n",
       "  0.77777777777777768,\n",
       "  1.0),\n",
       " (-1.0,\n",
       "  -0.77777777777777779,\n",
       "  -0.55555555555555558,\n",
       "  -0.33333333333333337,\n",
       "  -0.11111111111111116,\n",
       "  0.11111111111111116,\n",
       "  0.33333333333333326,\n",
       "  0.55555555555555536,\n",
       "  0.77777777777777768,\n",
       "  1.0),\n",
       " (-1.0,\n",
       "  -0.77777777777777779,\n",
       "  -0.55555555555555558,\n",
       "  -0.33333333333333337,\n",
       "  -0.11111111111111116,\n",
       "  0.11111111111111116,\n",
       "  0.33333333333333326,\n",
       "  0.55555555555555536,\n",
       "  0.77777777777777768,\n",
       "  1.0),\n",
       " (-1.0,\n",
       "  -0.77777777777777779,\n",
       "  -0.55555555555555558,\n",
       "  -0.33333333333333337,\n",
       "  -0.11111111111111116,\n",
       "  0.11111111111111116,\n",
       "  0.33333333333333326,\n",
       "  0.55555555555555536,\n",
       "  0.77777777777777768,\n",
       "  1.0),\n",
       " (-1.0,\n",
       "  -0.77777777777777779,\n",
       "  -0.55555555555555558,\n",
       "  -0.33333333333333337,\n",
       "  -0.11111111111111116,\n",
       "  0.11111111111111116,\n",
       "  0.33333333333333326,\n",
       "  0.55555555555555536,\n",
       "  0.77777777777777768,\n",
       "  1.0),\n",
       " (-1.0,\n",
       "  -0.77777777777777779,\n",
       "  -0.55555555555555558,\n",
       "  -0.33333333333333337,\n",
       "  -0.11111111111111116,\n",
       "  0.11111111111111116,\n",
       "  0.33333333333333326,\n",
       "  0.55555555555555536,\n",
       "  0.77777777777777768,\n",
       "  1.0),\n",
       " (-1.0,\n",
       "  -0.77777777777777779,\n",
       "  -0.55555555555555558,\n",
       "  -0.33333333333333337,\n",
       "  -0.11111111111111116,\n",
       "  0.11111111111111116,\n",
       "  0.33333333333333326,\n",
       "  0.55555555555555536,\n",
       "  0.77777777777777768,\n",
       "  1.0),\n",
       " (-1.0,\n",
       "  -0.77777777777777779,\n",
       "  -0.55555555555555558,\n",
       "  -0.33333333333333337,\n",
       "  -0.11111111111111116,\n",
       "  0.11111111111111116,\n",
       "  0.33333333333333326,\n",
       "  0.55555555555555536,\n",
       "  0.77777777777777768,\n",
       "  1.0),\n",
       " (-1.0,\n",
       "  -0.77777777777777779,\n",
       "  -0.55555555555555558,\n",
       "  -0.33333333333333337,\n",
       "  -0.11111111111111116,\n",
       "  0.11111111111111116,\n",
       "  0.33333333333333326,\n",
       "  0.55555555555555536,\n",
       "  0.77777777777777768,\n",
       "  1.0),\n",
       " (-1.0,\n",
       "  -0.77777777777777779,\n",
       "  -0.55555555555555558,\n",
       "  -0.33333333333333337,\n",
       "  -0.11111111111111116,\n",
       "  0.11111111111111116,\n",
       "  0.33333333333333326,\n",
       "  0.55555555555555536,\n",
       "  0.77777777777777768,\n",
       "  1.0)]"
      ]
     },
     "execution_count": 23,
     "metadata": {},
     "output_type": "execute_result"
    }
   ],
   "source": [
    "xx, yy = np.mgrid[-1.:1:10*1j, -1.:1:10*1j]\n"
   ]
  },
  {
   "cell_type": "markdown",
   "metadata": {},
   "source": [
    "## Bibliografía\n",
    "\n",
    "http://kmdouglass.github.io/posts/simple-pupil-function-calculations.html"
   ]
  }
 ],
 "metadata": {
  "kernelspec": {
   "display_name": "Python 2",
   "language": "python",
   "name": "python2"
  },
  "language_info": {
   "codemirror_mode": {
    "name": "ipython",
    "version": 2
   },
   "file_extension": ".py",
   "mimetype": "text/x-python",
   "name": "python",
   "nbconvert_exporter": "python",
   "pygments_lexer": "ipython2",
   "version": "2.7.6"
  }
 },
 "nbformat": 4,
 "nbformat_minor": 2
}
